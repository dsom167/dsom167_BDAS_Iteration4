{
 "cells": [
  {
   "cell_type": "code",
   "execution_count": 1,
   "metadata": {},
   "outputs": [],
   "source": [
    "import findspark\n",
    "findspark.init('/home/ubuntu/spark-2.1.1-bin-hadoop2.7')\n",
    "import pyspark\n",
    "from pyspark.sql import SparkSession"
   ]
  },
  {
   "cell_type": "code",
   "execution_count": 2,
   "metadata": {},
   "outputs": [],
   "source": [
    "spark = SparkSession.builder.appName('dsom167_BDAS').getOrCreate()"
   ]
  },
  {
   "cell_type": "code",
   "execution_count": 3,
   "metadata": {},
   "outputs": [],
   "source": [
    "df=spark.read.load(\"./KaggleV2-May-2016.csv\",format=\"csv\",inferSchema=True, header=\"true\")"
   ]
  },
  {
   "cell_type": "code",
   "execution_count": 4,
   "metadata": {},
   "outputs": [
    {
     "name": "stdout",
     "output_type": "stream",
     "text": [
      "root\n",
      " |-- PatientId: decimal(15,0) (nullable = true)\n",
      " |-- AppointmentID: integer (nullable = true)\n",
      " |-- Gender: string (nullable = true)\n",
      " |-- ScheduledDay: timestamp (nullable = true)\n",
      " |-- AppointmentDay: timestamp (nullable = true)\n",
      " |-- Age: integer (nullable = true)\n",
      " |-- Neighbourhood: string (nullable = true)\n",
      " |-- Scholarship: integer (nullable = true)\n",
      " |-- Hipertension: integer (nullable = true)\n",
      " |-- Diabetes: integer (nullable = true)\n",
      " |-- Alcoholism: integer (nullable = true)\n",
      " |-- Handcap: integer (nullable = true)\n",
      " |-- SMS_received: integer (nullable = true)\n",
      " |-- No-show: string (nullable = true)\n",
      "\n",
      "2999 14\n"
     ]
    }
   ],
   "source": [
    "df.printSchema()\n",
    "print(df.count(),len(df.columns))"
   ]
  },
  {
   "cell_type": "code",
   "execution_count": 5,
   "metadata": {},
   "outputs": [
    {
     "name": "stdout",
     "output_type": "stream",
     "text": [
      "+---+\n",
      "|Age|\n",
      "+---+\n",
      "|31 |\n",
      "|85 |\n",
      "|65 |\n",
      "|53 |\n",
      "|78 |\n",
      "|34 |\n",
      "|81 |\n",
      "|28 |\n",
      "|76 |\n",
      "|27 |\n",
      "|26 |\n",
      "|44 |\n",
      "|12 |\n",
      "|91 |\n",
      "|22 |\n",
      "|47 |\n",
      "|1  |\n",
      "|52 |\n",
      "|13 |\n",
      "|6  |\n",
      "|16 |\n",
      "|86 |\n",
      "|3  |\n",
      "|40 |\n",
      "|20 |\n",
      "|94 |\n",
      "|57 |\n",
      "|54 |\n",
      "|48 |\n",
      "|5  |\n",
      "|19 |\n",
      "|64 |\n",
      "|41 |\n",
      "|15 |\n",
      "|43 |\n",
      "|37 |\n",
      "|61 |\n",
      "|88 |\n",
      "|17 |\n",
      "|9  |\n",
      "|72 |\n",
      "|35 |\n",
      "|4  |\n",
      "|59 |\n",
      "|55 |\n",
      "|8  |\n",
      "|23 |\n",
      "|39 |\n",
      "|49 |\n",
      "|7  |\n",
      "|84 |\n",
      "|87 |\n",
      "|51 |\n",
      "|69 |\n",
      "|63 |\n",
      "|10 |\n",
      "|77 |\n",
      "|50 |\n",
      "|45 |\n",
      "|38 |\n",
      "|82 |\n",
      "|80 |\n",
      "|73 |\n",
      "|25 |\n",
      "|24 |\n",
      "|70 |\n",
      "|62 |\n",
      "|29 |\n",
      "|21 |\n",
      "|98 |\n",
      "|32 |\n",
      "|60 |\n",
      "|90 |\n",
      "|75 |\n",
      "|56 |\n",
      "|58 |\n",
      "|11 |\n",
      "|33 |\n",
      "|83 |\n",
      "|71 |\n",
      "|68 |\n",
      "|14 |\n",
      "|42 |\n",
      "|79 |\n",
      "|2  |\n",
      "|30 |\n",
      "|66 |\n",
      "|46 |\n",
      "|67 |\n",
      "|0  |\n",
      "|18 |\n",
      "|74 |\n",
      "|36 |\n",
      "|89 |\n",
      "+---+\n",
      "\n"
     ]
    }
   ],
   "source": [
    "df.createOrReplaceTempView('data')\n",
    "ageResults = spark.sql(\"SELECT DISTINCT Age FROM data\")\n",
    "ageResults.show(100,False)"
   ]
  },
  {
   "cell_type": "code",
   "execution_count": 6,
   "metadata": {},
   "outputs": [
    {
     "name": "stdout",
     "output_type": "stream",
     "text": [
      "+---------------------+\n",
      "|AppointmentDay       |\n",
      "+---------------------+\n",
      "|2016-04-29 00:00:00.0|\n",
      "+---------------------+\n",
      "\n"
     ]
    }
   ],
   "source": [
    "df.createOrReplaceTempView('data')\n",
    "Results = spark.sql(\"SELECT DISTINCT AppointmentDay FROM data\")\n",
    "Results.show(100,False)"
   ]
  },
  {
   "cell_type": "code",
   "execution_count": 7,
   "metadata": {},
   "outputs": [
    {
     "name": "stdout",
     "output_type": "stream",
     "text": [
      "+---------------------+\n",
      "|ScheduledDay         |\n",
      "+---------------------+\n",
      "|2016-04-12 15:11:24.0|\n",
      "|2016-04-29 07:40:37.0|\n",
      "|2016-03-28 13:52:35.0|\n",
      "|2016-04-05 10:49:39.0|\n",
      "|2016-04-29 08:47:14.0|\n",
      "|2016-04-01 10:14:52.0|\n",
      "|2016-03-16 10:58:23.0|\n",
      "|2016-04-29 15:20:59.0|\n",
      "|2016-04-29 09:01:33.0|\n",
      "|2016-04-27 11:35:45.0|\n",
      "|2016-03-04 09:24:12.0|\n",
      "|2016-04-26 09:05:37.0|\n",
      "|2016-04-29 09:08:14.0|\n",
      "|2016-04-15 12:48:30.0|\n",
      "|2016-04-29 07:38:24.0|\n",
      "|2016-04-15 08:05:50.0|\n",
      "|2016-04-20 12:51:25.0|\n",
      "|2016-04-15 14:36:26.0|\n",
      "|2016-04-28 20:20:09.0|\n",
      "|2016-04-29 14:22:01.0|\n",
      "|2016-04-20 07:51:15.0|\n",
      "|2016-04-13 09:38:33.0|\n",
      "|2016-04-28 16:15:55.0|\n",
      "|2016-04-29 08:01:51.0|\n",
      "|2016-03-17 09:45:47.0|\n",
      "|2016-04-29 09:02:40.0|\n",
      "|2016-04-19 08:35:26.0|\n",
      "|2016-04-29 14:24:43.0|\n",
      "|2016-04-18 07:46:31.0|\n",
      "|2016-04-11 15:31:17.0|\n",
      "|2016-03-31 17:44:52.0|\n",
      "|2016-04-20 07:30:00.0|\n",
      "|2016-03-10 08:02:18.0|\n",
      "|2016-04-29 08:24:32.0|\n",
      "|2016-04-12 11:56:59.0|\n",
      "|2016-04-29 07:07:37.0|\n",
      "|2016-04-18 14:41:58.0|\n",
      "|2016-03-22 08:20:22.0|\n",
      "|2016-03-14 15:58:09.0|\n",
      "|2016-04-18 14:56:14.0|\n",
      "|2016-04-29 09:21:30.0|\n",
      "|2016-04-28 08:10:48.0|\n",
      "|2016-04-08 14:00:46.0|\n",
      "|2016-04-27 07:47:42.0|\n",
      "|2016-04-29 10:30:16.0|\n",
      "|2016-04-26 10:35:14.0|\n",
      "|2016-04-29 08:26:43.0|\n",
      "|2016-04-29 07:54:13.0|\n",
      "|2016-04-14 11:34:00.0|\n",
      "|2016-04-15 12:47:10.0|\n",
      "|2016-04-19 09:27:13.0|\n",
      "|2016-04-20 11:04:38.0|\n",
      "|2016-04-29 13:58:52.0|\n",
      "|2016-04-29 14:25:31.0|\n",
      "|2016-04-29 15:18:16.0|\n",
      "|2016-04-27 07:03:09.0|\n",
      "|2016-04-28 14:17:27.0|\n",
      "|2016-04-05 16:45:39.0|\n",
      "|2016-04-06 07:44:09.0|\n",
      "|2016-04-28 07:35:58.0|\n",
      "|2016-03-29 15:35:36.0|\n",
      "|2016-04-29 13:42:52.0|\n",
      "|2016-04-12 10:59:06.0|\n",
      "|2016-04-14 10:01:09.0|\n",
      "|2016-03-30 10:32:48.0|\n",
      "|2016-04-29 15:35:05.0|\n",
      "|2016-04-29 15:31:53.0|\n",
      "|2016-04-29 08:11:46.0|\n",
      "|2016-04-27 15:22:18.0|\n",
      "|2016-04-29 10:46:53.0|\n",
      "|2016-04-29 10:14:05.0|\n",
      "|2016-04-29 09:04:44.0|\n",
      "|2016-04-08 09:40:44.0|\n",
      "|2016-04-29 12:37:34.0|\n",
      "|2016-02-19 13:20:50.0|\n",
      "|2016-04-29 09:10:19.0|\n",
      "|2016-03-17 14:01:38.0|\n",
      "|2016-03-15 11:35:35.0|\n",
      "|2016-04-29 07:02:24.0|\n",
      "|2016-04-26 11:01:45.0|\n",
      "|2016-04-20 12:50:23.0|\n",
      "|2016-04-27 17:41:15.0|\n",
      "|2016-04-14 12:01:51.0|\n",
      "|2016-04-19 13:17:44.0|\n",
      "|2016-04-29 08:02:33.0|\n",
      "|2016-03-22 14:13:13.0|\n",
      "|2016-04-08 09:11:13.0|\n",
      "|2016-03-10 08:38:02.0|\n",
      "|2016-04-27 07:04:46.0|\n",
      "|2016-04-27 07:03:50.0|\n",
      "|2016-03-28 14:15:31.0|\n",
      "|2016-04-13 08:02:36.0|\n",
      "|2016-04-15 13:06:05.0|\n",
      "|2016-04-28 11:35:55.0|\n",
      "|2016-04-29 09:34:00.0|\n",
      "|2016-04-29 09:18:45.0|\n",
      "|2016-04-28 07:30:29.0|\n",
      "|2016-04-29 07:43:59.0|\n",
      "|2016-04-15 11:57:49.0|\n",
      "|2016-03-29 11:09:08.0|\n",
      "+---------------------+\n",
      "only showing top 100 rows\n",
      "\n"
     ]
    }
   ],
   "source": [
    "df.createOrReplaceTempView('data')\n",
    "Results = spark.sql(\"SELECT DISTINCT ScheduledDay FROM data\")\n",
    "Results.show(100,False)"
   ]
  },
  {
   "cell_type": "code",
   "execution_count": 8,
   "metadata": {},
   "outputs": [
    {
     "name": "stdout",
     "output_type": "stream",
     "text": [
      "+-------------------+\n",
      "|Neighbourhood      |\n",
      "+-------------------+\n",
      "|BENTO FERREIRA     |\n",
      "|JARDIM CAMBURI     |\n",
      "|GURIGICA           |\n",
      "|SÃO CRISTÓVÃO      |\n",
      "|FONTE GRANDE       |\n",
      "|FRADINHOS          |\n",
      "|NAZARETH           |\n",
      "|PIEDADE            |\n",
      "|SANTA CLARA        |\n",
      "|SANTOS REIS        |\n",
      "|SOLON BORGES       |\n",
      "|SANTO ANTÔNIO      |\n",
      "|PRAIA DO SUÁ       |\n",
      "|PONTAL DE CAMBURI  |\n",
      "|BELA VISTA         |\n",
      "|DA PENHA           |\n",
      "|CONQUISTA          |\n",
      "|CRUZAMENTO         |\n",
      "|GOIABEIRAS         |\n",
      "|TABUAZEIRO         |\n",
      "|BONFIM             |\n",
      "|MORADA DE CAMBURI  |\n",
      "|ESTRELINHA         |\n",
      "|ANTÔNIO HONÓRIO    |\n",
      "|JUCUTUQUARA        |\n",
      "|NOVA PALESTINA     |\n",
      "|MARUÍPE            |\n",
      "|COMDUSA            |\n",
      "|ROMÃO              |\n",
      "|MATA DA PRAIA      |\n",
      "|GRANDE VITÓRIA     |\n",
      "|RESISTÊNCIA        |\n",
      "|ARIOVALDO FAVALESSA|\n",
      "|SANTA MARTHA       |\n",
      "|SANTA TEREZA       |\n",
      "|DE LOURDES         |\n",
      "|MÁRIO CYPRESTE     |\n",
      "|ILHA DE SANTA MARIA|\n",
      "|ITARARÉ            |\n",
      "|SÃO BENEDITO       |\n",
      "|JESUS DE NAZARETH  |\n",
      "|ILHA DAS CAIEIRAS  |\n",
      "|REDENÇÃO           |\n",
      "|HORTO              |\n",
      "|SANTOS DUMONT      |\n",
      "|PRAIA DO CANTO     |\n",
      "|ILHA DO FRADE      |\n",
      "|DO CABRAL          |\n",
      "|BOA VISTA          |\n",
      "|ANDORINHAS         |\n",
      "|SÃO PEDRO          |\n",
      "|SEGURANÇA DO LAR   |\n",
      "|CENTRO             |\n",
      "|DO MOSCOSO         |\n",
      "|SANTA CECÍLIA      |\n",
      "|MONTE BELO         |\n",
      "|VILA RUBIM         |\n",
      "|SANTA HELENA       |\n",
      "|BARRO VERMELHO     |\n",
      "|JARDIM DA PENHA    |\n",
      "|JOANA D´ARC        |\n",
      "|SANTA LÚCIA        |\n",
      "|PARQUE MOSCOSO     |\n",
      "|CONSOLAÇÃO         |\n",
      "|SANTO ANDRÉ        |\n",
      "|JABOUR             |\n",
      "|FORTE SÃO JOÃO     |\n",
      "|DO QUADRO          |\n",
      "|UNIVERSITÁRIO      |\n",
      "|CARATOÍRA          |\n",
      "|SÃO JOSÉ           |\n",
      "|ILHA DO PRÍNCIPE   |\n",
      "|INHANGUETÁ         |\n",
      "|ILHA DO BOI        |\n",
      "|SANTA LUÍZA        |\n",
      "|REPÚBLICA          |\n",
      "|MARIA ORTIZ        |\n",
      "|ENSEADA DO SUÁ     |\n",
      "+-------------------+\n",
      "\n"
     ]
    }
   ],
   "source": [
    "df.createOrReplaceTempView('data')\n",
    "Results = spark.sql(\"SELECT DISTINCT Neighbourhood FROM data\")\n",
    "Results.show(100,False)"
   ]
  },
  {
   "cell_type": "code",
   "execution_count": 9,
   "metadata": {},
   "outputs": [
    {
     "name": "stdout",
     "output_type": "stream",
     "text": [
      "+-------+---------+-------------+------+----+-------------+-----------+------------+--------+----------+-------+------------+-------+\n",
      "|summary|PatientId|AppointmentID|Gender| Age|Neighbourhood|Scholarship|Hipertension|Diabetes|Alcoholism|Handcap|SMS_received|No-show|\n",
      "+-------+---------+-------------+------+----+-------------+-----------+------------+--------+----------+-------+------------+-------+\n",
      "|  count|     2999|         2999|  2999|2999|         2999|       2999|        2999|    2999|      2999|   2999|        2999|   2999|\n",
      "+-------+---------+-------------+------+----+-------------+-----------+------------+--------+----------+-------+------------+-------+\n",
      "\n"
     ]
    },
    {
     "ename": "AnalysisException",
     "evalue": "\"cannot resolve 'isnan(`ScheduledDay`)' due to data type mismatch: argument 1 requires (double or float) type, however, '`ScheduledDay`' is of timestamp type.;;\\n'Aggregate [count(CASE WHEN (isnan(cast(PatientId#0 as double)) || isnull(PatientId#0)) THEN PatientId END) AS PatientId#739L, count(CASE WHEN (isnan(cast(AppointmentID#1 as double)) || isnull(AppointmentID#1)) THEN AppointmentID END) AS AppointmentID#741L, count(CASE WHEN (isnan(cast(Gender#2 as double)) || isnull(Gender#2)) THEN Gender END) AS Gender#743L, count(CASE WHEN (isnan(ScheduledDay#3) || isnull(ScheduledDay#3)) THEN ScheduledDay END) AS ScheduledDay#745, count(CASE WHEN (isnan(AppointmentDay#4) || isnull(AppointmentDay#4)) THEN AppointmentDay END) AS AppointmentDay#747, count(CASE WHEN (isnan(cast(Age#5 as double)) || isnull(Age#5)) THEN Age END) AS Age#749L, count(CASE WHEN (isnan(cast(Neighbourhood#6 as double)) || isnull(Neighbourhood#6)) THEN Neighbourhood END) AS Neighbourhood#751L, count(CASE WHEN (isnan(cast(Scholarship#7 as double)) || isnull(Scholarship#7)) THEN Scholarship END) AS Scholarship#753L, count(CASE WHEN (isnan(cast(Hipertension#8 as double)) || isnull(Hipertension#8)) THEN Hipertension END) AS Hipertension#755L, count(CASE WHEN (isnan(cast(Diabetes#9 as double)) || isnull(Diabetes#9)) THEN Diabetes END) AS Diabetes#757L, count(CASE WHEN (isnan(cast(Alcoholism#10 as double)) || isnull(Alcoholism#10)) THEN Alcoholism END) AS Alcoholism#759L, count(CASE WHEN (isnan(cast(Handcap#11 as double)) || isnull(Handcap#11)) THEN Handcap END) AS Handcap#761L, count(CASE WHEN (isnan(cast(SMS_received#12 as double)) || isnull(SMS_received#12)) THEN SMS_received END) AS SMS_received#763L, count(CASE WHEN (isnan(cast(No-show#13 as double)) || isnull(No-show#13)) THEN No-show END) AS No-show#765L]\\n+- Relation[PatientId#0,AppointmentID#1,Gender#2,ScheduledDay#3,AppointmentDay#4,Age#5,Neighbourhood#6,Scholarship#7,Hipertension#8,Diabetes#9,Alcoholism#10,Handcap#11,SMS_received#12,No-show#13] csv\\n\"",
     "output_type": "error",
     "traceback": [
      "\u001B[0;31m---------------------------------------------------------------------------\u001B[0m",
      "\u001B[0;31mPy4JJavaError\u001B[0m                             Traceback (most recent call last)",
      "\u001B[0;32m~/spark-2.1.1-bin-hadoop2.7/python/pyspark/sql/utils.py\u001B[0m in \u001B[0;36mdeco\u001B[0;34m(*a, **kw)\u001B[0m\n\u001B[1;32m     62\u001B[0m         \u001B[0;32mtry\u001B[0m\u001B[0;34m:\u001B[0m\u001B[0;34m\u001B[0m\u001B[0m\n\u001B[0;32m---> 63\u001B[0;31m             \u001B[0;32mreturn\u001B[0m \u001B[0mf\u001B[0m\u001B[0;34m(\u001B[0m\u001B[0;34m*\u001B[0m\u001B[0ma\u001B[0m\u001B[0;34m,\u001B[0m \u001B[0;34m**\u001B[0m\u001B[0mkw\u001B[0m\u001B[0;34m)\u001B[0m\u001B[0;34m\u001B[0m\u001B[0m\n\u001B[0m\u001B[1;32m     64\u001B[0m         \u001B[0;32mexcept\u001B[0m \u001B[0mpy4j\u001B[0m\u001B[0;34m.\u001B[0m\u001B[0mprotocol\u001B[0m\u001B[0;34m.\u001B[0m\u001B[0mPy4JJavaError\u001B[0m \u001B[0;32mas\u001B[0m \u001B[0me\u001B[0m\u001B[0;34m:\u001B[0m\u001B[0;34m\u001B[0m\u001B[0m\n",
      "\u001B[0;32m~/spark-2.1.1-bin-hadoop2.7/python/lib/py4j-0.10.4-src.zip/py4j/protocol.py\u001B[0m in \u001B[0;36mget_return_value\u001B[0;34m(answer, gateway_client, target_id, name)\u001B[0m\n\u001B[1;32m    318\u001B[0m                     \u001B[0;34m\"An error occurred while calling {0}{1}{2}.\\n\"\u001B[0m\u001B[0;34m.\u001B[0m\u001B[0;34m\u001B[0m\u001B[0m\n\u001B[0;32m--> 319\u001B[0;31m                     format(target_id, \".\", name), value)\n\u001B[0m\u001B[1;32m    320\u001B[0m             \u001B[0;32melse\u001B[0m\u001B[0;34m:\u001B[0m\u001B[0;34m\u001B[0m\u001B[0m\n",
      "\u001B[0;31mPy4JJavaError\u001B[0m: An error occurred while calling o29.select.\n: org.apache.spark.sql.AnalysisException: cannot resolve 'isnan(`ScheduledDay`)' due to data type mismatch: argument 1 requires (double or float) type, however, '`ScheduledDay`' is of timestamp type.;;\n'Aggregate [count(CASE WHEN (isnan(cast(PatientId#0 as double)) || isnull(PatientId#0)) THEN PatientId END) AS PatientId#739L, count(CASE WHEN (isnan(cast(AppointmentID#1 as double)) || isnull(AppointmentID#1)) THEN AppointmentID END) AS AppointmentID#741L, count(CASE WHEN (isnan(cast(Gender#2 as double)) || isnull(Gender#2)) THEN Gender END) AS Gender#743L, count(CASE WHEN (isnan(ScheduledDay#3) || isnull(ScheduledDay#3)) THEN ScheduledDay END) AS ScheduledDay#745, count(CASE WHEN (isnan(AppointmentDay#4) || isnull(AppointmentDay#4)) THEN AppointmentDay END) AS AppointmentDay#747, count(CASE WHEN (isnan(cast(Age#5 as double)) || isnull(Age#5)) THEN Age END) AS Age#749L, count(CASE WHEN (isnan(cast(Neighbourhood#6 as double)) || isnull(Neighbourhood#6)) THEN Neighbourhood END) AS Neighbourhood#751L, count(CASE WHEN (isnan(cast(Scholarship#7 as double)) || isnull(Scholarship#7)) THEN Scholarship END) AS Scholarship#753L, count(CASE WHEN (isnan(cast(Hipertension#8 as double)) || isnull(Hipertension#8)) THEN Hipertension END) AS Hipertension#755L, count(CASE WHEN (isnan(cast(Diabetes#9 as double)) || isnull(Diabetes#9)) THEN Diabetes END) AS Diabetes#757L, count(CASE WHEN (isnan(cast(Alcoholism#10 as double)) || isnull(Alcoholism#10)) THEN Alcoholism END) AS Alcoholism#759L, count(CASE WHEN (isnan(cast(Handcap#11 as double)) || isnull(Handcap#11)) THEN Handcap END) AS Handcap#761L, count(CASE WHEN (isnan(cast(SMS_received#12 as double)) || isnull(SMS_received#12)) THEN SMS_received END) AS SMS_received#763L, count(CASE WHEN (isnan(cast(No-show#13 as double)) || isnull(No-show#13)) THEN No-show END) AS No-show#765L]\n+- Relation[PatientId#0,AppointmentID#1,Gender#2,ScheduledDay#3,AppointmentDay#4,Age#5,Neighbourhood#6,Scholarship#7,Hipertension#8,Diabetes#9,Alcoholism#10,Handcap#11,SMS_received#12,No-show#13] csv\n\n\tat org.apache.spark.sql.catalyst.analysis.package$AnalysisErrorAt.failAnalysis(package.scala:42)\n\tat org.apache.spark.sql.catalyst.analysis.CheckAnalysis$$anonfun$checkAnalysis$1$$anonfun$apply$2.applyOrElse(CheckAnalysis.scala:91)\n\tat org.apache.spark.sql.catalyst.analysis.CheckAnalysis$$anonfun$checkAnalysis$1$$anonfun$apply$2.applyOrElse(CheckAnalysis.scala:83)\n\tat org.apache.spark.sql.catalyst.trees.TreeNode$$anonfun$transformUp$1.apply(TreeNode.scala:290)\n\tat org.apache.spark.sql.catalyst.trees.TreeNode$$anonfun$transformUp$1.apply(TreeNode.scala:290)\n\tat org.apache.spark.sql.catalyst.trees.CurrentOrigin$.withOrigin(TreeNode.scala:70)\n\tat org.apache.spark.sql.catalyst.trees.TreeNode.transformUp(TreeNode.scala:289)\n\tat org.apache.spark.sql.catalyst.trees.TreeNode$$anonfun$3.apply(TreeNode.scala:287)\n\tat org.apache.spark.sql.catalyst.trees.TreeNode$$anonfun$3.apply(TreeNode.scala:287)\n\tat org.apache.spark.sql.catalyst.trees.TreeNode$$anonfun$4.apply(TreeNode.scala:307)\n\tat org.apache.spark.sql.catalyst.trees.TreeNode.mapProductIterator(TreeNode.scala:188)\n\tat org.apache.spark.sql.catalyst.trees.TreeNode.mapChildren(TreeNode.scala:305)\n\tat org.apache.spark.sql.catalyst.trees.TreeNode.transformUp(TreeNode.scala:287)\n\tat org.apache.spark.sql.catalyst.trees.TreeNode$$anonfun$3.apply(TreeNode.scala:287)\n\tat org.apache.spark.sql.catalyst.trees.TreeNode$$anonfun$3.apply(TreeNode.scala:287)\n\tat org.apache.spark.sql.catalyst.trees.TreeNode$$anonfun$4$$anonfun$apply$11.apply(TreeNode.scala:344)\n\tat scala.collection.TraversableLike$$anonfun$map$1.apply(TraversableLike.scala:234)\n\tat scala.collection.TraversableLike$$anonfun$map$1.apply(TraversableLike.scala:234)\n\tat scala.collection.immutable.List.foreach(List.scala:381)\n\tat scala.collection.TraversableLike$class.map(TraversableLike.scala:234)\n\tat scala.collection.immutable.List.map(List.scala:285)\n\tat org.apache.spark.sql.catalyst.trees.TreeNode$$anonfun$4.apply(TreeNode.scala:334)\n\tat org.apache.spark.sql.catalyst.trees.TreeNode.mapProductIterator(TreeNode.scala:188)\n\tat org.apache.spark.sql.catalyst.trees.TreeNode.mapChildren(TreeNode.scala:305)\n\tat org.apache.spark.sql.catalyst.trees.TreeNode.transformUp(TreeNode.scala:287)\n\tat org.apache.spark.sql.catalyst.trees.TreeNode$$anonfun$3.apply(TreeNode.scala:287)\n\tat org.apache.spark.sql.catalyst.trees.TreeNode$$anonfun$3.apply(TreeNode.scala:287)\n\tat org.apache.spark.sql.catalyst.trees.TreeNode$$anonfun$4$$anonfun$apply$11.apply(TreeNode.scala:336)\n\tat scala.collection.TraversableLike$$anonfun$map$1.apply(TraversableLike.scala:234)\n\tat scala.collection.TraversableLike$$anonfun$map$1.apply(TraversableLike.scala:234)\n\tat scala.collection.immutable.List.foreach(List.scala:381)\n\tat scala.collection.TraversableLike$class.map(TraversableLike.scala:234)\n\tat scala.collection.immutable.List.map(List.scala:285)\n\tat org.apache.spark.sql.catalyst.trees.TreeNode$$anonfun$4.apply(TreeNode.scala:334)\n\tat org.apache.spark.sql.catalyst.trees.TreeNode.mapProductIterator(TreeNode.scala:188)\n\tat org.apache.spark.sql.catalyst.trees.TreeNode.mapChildren(TreeNode.scala:305)\n\tat org.apache.spark.sql.catalyst.trees.TreeNode.transformUp(TreeNode.scala:287)\n\tat org.apache.spark.sql.catalyst.trees.TreeNode$$anonfun$3.apply(TreeNode.scala:287)\n\tat org.apache.spark.sql.catalyst.trees.TreeNode$$anonfun$3.apply(TreeNode.scala:287)\n\tat org.apache.spark.sql.catalyst.trees.TreeNode$$anonfun$4.apply(TreeNode.scala:307)\n\tat org.apache.spark.sql.catalyst.trees.TreeNode.mapProductIterator(TreeNode.scala:188)\n\tat org.apache.spark.sql.catalyst.trees.TreeNode.mapChildren(TreeNode.scala:305)\n\tat org.apache.spark.sql.catalyst.trees.TreeNode.transformUp(TreeNode.scala:287)\n\tat org.apache.spark.sql.catalyst.trees.TreeNode$$anonfun$3.apply(TreeNode.scala:287)\n\tat org.apache.spark.sql.catalyst.trees.TreeNode$$anonfun$3.apply(TreeNode.scala:287)\n\tat org.apache.spark.sql.catalyst.trees.TreeNode$$anonfun$4.apply(TreeNode.scala:307)\n\tat org.apache.spark.sql.catalyst.trees.TreeNode.mapProductIterator(TreeNode.scala:188)\n\tat org.apache.spark.sql.catalyst.trees.TreeNode.mapChildren(TreeNode.scala:305)\n\tat org.apache.spark.sql.catalyst.trees.TreeNode.transformUp(TreeNode.scala:287)\n\tat org.apache.spark.sql.catalyst.plans.QueryPlan$$anonfun$transformExpressionsUp$1.apply(QueryPlan.scala:255)\n\tat org.apache.spark.sql.catalyst.plans.QueryPlan$$anonfun$transformExpressionsUp$1.apply(QueryPlan.scala:255)\n\tat org.apache.spark.sql.catalyst.plans.QueryPlan.transformExpression$1(QueryPlan.scala:266)\n\tat org.apache.spark.sql.catalyst.plans.QueryPlan.org$apache$spark$sql$catalyst$plans$QueryPlan$$recursiveTransform$1(QueryPlan.scala:276)\n\tat org.apache.spark.sql.catalyst.plans.QueryPlan$$anonfun$org$apache$spark$sql$catalyst$plans$QueryPlan$$recursiveTransform$1$1.apply(QueryPlan.scala:280)\n\tat scala.collection.TraversableLike$$anonfun$map$1.apply(TraversableLike.scala:234)\n\tat scala.collection.TraversableLike$$anonfun$map$1.apply(TraversableLike.scala:234)\n\tat scala.collection.mutable.ResizableArray$class.foreach(ResizableArray.scala:59)\n\tat scala.collection.mutable.ArrayBuffer.foreach(ArrayBuffer.scala:48)\n\tat scala.collection.TraversableLike$class.map(TraversableLike.scala:234)\n\tat scala.collection.AbstractTraversable.map(Traversable.scala:104)\n\tat org.apache.spark.sql.catalyst.plans.QueryPlan.org$apache$spark$sql$catalyst$plans$QueryPlan$$recursiveTransform$1(QueryPlan.scala:280)\n\tat org.apache.spark.sql.catalyst.plans.QueryPlan$$anonfun$6.apply(QueryPlan.scala:285)\n\tat org.apache.spark.sql.catalyst.trees.TreeNode.mapProductIterator(TreeNode.scala:188)\n\tat org.apache.spark.sql.catalyst.plans.QueryPlan.mapExpressions(QueryPlan.scala:285)\n\tat org.apache.spark.sql.catalyst.plans.QueryPlan.transformExpressionsUp(QueryPlan.scala:255)\n\tat org.apache.spark.sql.catalyst.analysis.CheckAnalysis$$anonfun$checkAnalysis$1.apply(CheckAnalysis.scala:83)\n\tat org.apache.spark.sql.catalyst.analysis.CheckAnalysis$$anonfun$checkAnalysis$1.apply(CheckAnalysis.scala:76)\n\tat org.apache.spark.sql.catalyst.trees.TreeNode.foreachUp(TreeNode.scala:128)\n\tat org.apache.spark.sql.catalyst.analysis.CheckAnalysis$class.checkAnalysis(CheckAnalysis.scala:76)\n\tat org.apache.spark.sql.catalyst.analysis.Analyzer.checkAnalysis(Analyzer.scala:57)\n\tat org.apache.spark.sql.execution.QueryExecution.assertAnalyzed(QueryExecution.scala:52)\n\tat org.apache.spark.sql.Dataset$.ofRows(Dataset.scala:63)\n\tat org.apache.spark.sql.Dataset.org$apache$spark$sql$Dataset$$withPlan(Dataset.scala:2845)\n\tat org.apache.spark.sql.Dataset.select(Dataset.scala:1131)\n\tat sun.reflect.NativeMethodAccessorImpl.invoke0(Native Method)\n\tat sun.reflect.NativeMethodAccessorImpl.invoke(NativeMethodAccessorImpl.java:62)\n\tat sun.reflect.DelegatingMethodAccessorImpl.invoke(DelegatingMethodAccessorImpl.java:43)\n\tat java.lang.reflect.Method.invoke(Method.java:498)\n\tat py4j.reflection.MethodInvoker.invoke(MethodInvoker.java:244)\n\tat py4j.reflection.ReflectionEngine.invoke(ReflectionEngine.java:357)\n\tat py4j.Gateway.invoke(Gateway.java:280)\n\tat py4j.commands.AbstractCommand.invokeMethod(AbstractCommand.java:132)\n\tat py4j.commands.CallCommand.execute(CallCommand.java:79)\n\tat py4j.GatewayConnection.run(GatewayConnection.java:214)\n\tat java.lang.Thread.run(Thread.java:748)\n",
      "\nDuring handling of the above exception, another exception occurred:\n",
      "\u001B[0;31mAnalysisException\u001B[0m                         Traceback (most recent call last)",
      "\u001B[0;32m<ipython-input-9-33daf315bf31>\u001B[0m in \u001B[0;36m<module>\u001B[0;34m()\u001B[0m\n\u001B[1;32m      2\u001B[0m \u001B[0;32mfrom\u001B[0m \u001B[0mpyspark\u001B[0m\u001B[0;34m.\u001B[0m\u001B[0msql\u001B[0m\u001B[0;34m.\u001B[0m\u001B[0mfunctions\u001B[0m \u001B[0;32mimport\u001B[0m \u001B[0misnan\u001B[0m\u001B[0;34m,\u001B[0m \u001B[0mwhen\u001B[0m\u001B[0;34m,\u001B[0m \u001B[0mcount\u001B[0m\u001B[0;34m,\u001B[0m \u001B[0mcol\u001B[0m\u001B[0;34m\u001B[0m\u001B[0m\n\u001B[1;32m      3\u001B[0m \u001B[0mdf\u001B[0m\u001B[0;34m.\u001B[0m\u001B[0mdescribe\u001B[0m\u001B[0;34m(\u001B[0m\u001B[0;34m)\u001B[0m\u001B[0;34m.\u001B[0m\u001B[0mfilter\u001B[0m\u001B[0;34m(\u001B[0m\u001B[0mcol\u001B[0m\u001B[0;34m(\u001B[0m\u001B[0;34m\"summary\"\u001B[0m\u001B[0;34m)\u001B[0m \u001B[0;34m==\u001B[0m \u001B[0;34m\"count\"\u001B[0m\u001B[0;34m)\u001B[0m\u001B[0;34m.\u001B[0m\u001B[0mshow\u001B[0m\u001B[0;34m(\u001B[0m\u001B[0;34m)\u001B[0m\u001B[0;34m\u001B[0m\u001B[0m\n\u001B[0;32m----> 4\u001B[0;31m \u001B[0mdf\u001B[0m\u001B[0;34m.\u001B[0m\u001B[0mselect\u001B[0m\u001B[0;34m(\u001B[0m\u001B[0;34m[\u001B[0m\u001B[0mcount\u001B[0m\u001B[0;34m(\u001B[0m\u001B[0mwhen\u001B[0m\u001B[0;34m(\u001B[0m\u001B[0misnan\u001B[0m\u001B[0;34m(\u001B[0m\u001B[0mc\u001B[0m\u001B[0;34m)\u001B[0m \u001B[0;34m|\u001B[0m \u001B[0mcol\u001B[0m\u001B[0;34m(\u001B[0m\u001B[0mc\u001B[0m\u001B[0;34m)\u001B[0m\u001B[0;34m.\u001B[0m\u001B[0misNull\u001B[0m\u001B[0;34m(\u001B[0m\u001B[0;34m)\u001B[0m\u001B[0;34m,\u001B[0m\u001B[0mc\u001B[0m\u001B[0;34m)\u001B[0m\u001B[0;34m)\u001B[0m\u001B[0;34m.\u001B[0m\u001B[0malias\u001B[0m\u001B[0;34m(\u001B[0m\u001B[0mc\u001B[0m\u001B[0;34m)\u001B[0m \u001B[0;32mfor\u001B[0m \u001B[0mc\u001B[0m \u001B[0;32min\u001B[0m \u001B[0mdf\u001B[0m\u001B[0;34m.\u001B[0m\u001B[0mcolumns\u001B[0m\u001B[0;34m]\u001B[0m\u001B[0;34m)\u001B[0m\u001B[0;34m.\u001B[0m\u001B[0mshow\u001B[0m\u001B[0;34m(\u001B[0m\u001B[0;34m)\u001B[0m\u001B[0;34m\u001B[0m\u001B[0m\n\u001B[0m",
      "\u001B[0;32m~/spark-2.1.1-bin-hadoop2.7/python/pyspark/sql/dataframe.py\u001B[0m in \u001B[0;36mselect\u001B[0;34m(self, *cols)\u001B[0m\n\u001B[1;32m    991\u001B[0m         \u001B[0;34m[\u001B[0m\u001B[0mRow\u001B[0m\u001B[0;34m(\u001B[0m\u001B[0mname\u001B[0m\u001B[0;34m=\u001B[0m\u001B[0;34mu'Alice'\u001B[0m\u001B[0;34m,\u001B[0m \u001B[0mage\u001B[0m\u001B[0;34m=\u001B[0m\u001B[0;36m12\u001B[0m\u001B[0;34m)\u001B[0m\u001B[0;34m,\u001B[0m \u001B[0mRow\u001B[0m\u001B[0;34m(\u001B[0m\u001B[0mname\u001B[0m\u001B[0;34m=\u001B[0m\u001B[0;34mu'Bob'\u001B[0m\u001B[0;34m,\u001B[0m \u001B[0mage\u001B[0m\u001B[0;34m=\u001B[0m\u001B[0;36m15\u001B[0m\u001B[0;34m)\u001B[0m\u001B[0;34m]\u001B[0m\u001B[0;34m\u001B[0m\u001B[0m\n\u001B[1;32m    992\u001B[0m         \"\"\"\n\u001B[0;32m--> 993\u001B[0;31m         \u001B[0mjdf\u001B[0m \u001B[0;34m=\u001B[0m \u001B[0mself\u001B[0m\u001B[0;34m.\u001B[0m\u001B[0m_jdf\u001B[0m\u001B[0;34m.\u001B[0m\u001B[0mselect\u001B[0m\u001B[0;34m(\u001B[0m\u001B[0mself\u001B[0m\u001B[0;34m.\u001B[0m\u001B[0m_jcols\u001B[0m\u001B[0;34m(\u001B[0m\u001B[0;34m*\u001B[0m\u001B[0mcols\u001B[0m\u001B[0;34m)\u001B[0m\u001B[0;34m)\u001B[0m\u001B[0;34m\u001B[0m\u001B[0m\n\u001B[0m\u001B[1;32m    994\u001B[0m         \u001B[0;32mreturn\u001B[0m \u001B[0mDataFrame\u001B[0m\u001B[0;34m(\u001B[0m\u001B[0mjdf\u001B[0m\u001B[0;34m,\u001B[0m \u001B[0mself\u001B[0m\u001B[0;34m.\u001B[0m\u001B[0msql_ctx\u001B[0m\u001B[0;34m)\u001B[0m\u001B[0;34m\u001B[0m\u001B[0m\n\u001B[1;32m    995\u001B[0m \u001B[0;34m\u001B[0m\u001B[0m\n",
      "\u001B[0;32m~/spark-2.1.1-bin-hadoop2.7/python/lib/py4j-0.10.4-src.zip/py4j/java_gateway.py\u001B[0m in \u001B[0;36m__call__\u001B[0;34m(self, *args)\u001B[0m\n\u001B[1;32m   1131\u001B[0m         \u001B[0manswer\u001B[0m \u001B[0;34m=\u001B[0m \u001B[0mself\u001B[0m\u001B[0;34m.\u001B[0m\u001B[0mgateway_client\u001B[0m\u001B[0;34m.\u001B[0m\u001B[0msend_command\u001B[0m\u001B[0;34m(\u001B[0m\u001B[0mcommand\u001B[0m\u001B[0;34m)\u001B[0m\u001B[0;34m\u001B[0m\u001B[0m\n\u001B[1;32m   1132\u001B[0m         return_value = get_return_value(\n\u001B[0;32m-> 1133\u001B[0;31m             answer, self.gateway_client, self.target_id, self.name)\n\u001B[0m\u001B[1;32m   1134\u001B[0m \u001B[0;34m\u001B[0m\u001B[0m\n\u001B[1;32m   1135\u001B[0m         \u001B[0;32mfor\u001B[0m \u001B[0mtemp_arg\u001B[0m \u001B[0;32min\u001B[0m \u001B[0mtemp_args\u001B[0m\u001B[0;34m:\u001B[0m\u001B[0;34m\u001B[0m\u001B[0m\n",
      "\u001B[0;32m~/spark-2.1.1-bin-hadoop2.7/python/pyspark/sql/utils.py\u001B[0m in \u001B[0;36mdeco\u001B[0;34m(*a, **kw)\u001B[0m\n\u001B[1;32m     67\u001B[0m                                              e.java_exception.getStackTrace()))\n\u001B[1;32m     68\u001B[0m             \u001B[0;32mif\u001B[0m \u001B[0ms\u001B[0m\u001B[0;34m.\u001B[0m\u001B[0mstartswith\u001B[0m\u001B[0;34m(\u001B[0m\u001B[0;34m'org.apache.spark.sql.AnalysisException: '\u001B[0m\u001B[0;34m)\u001B[0m\u001B[0;34m:\u001B[0m\u001B[0;34m\u001B[0m\u001B[0m\n\u001B[0;32m---> 69\u001B[0;31m                 \u001B[0;32mraise\u001B[0m \u001B[0mAnalysisException\u001B[0m\u001B[0;34m(\u001B[0m\u001B[0ms\u001B[0m\u001B[0;34m.\u001B[0m\u001B[0msplit\u001B[0m\u001B[0;34m(\u001B[0m\u001B[0;34m': '\u001B[0m\u001B[0;34m,\u001B[0m \u001B[0;36m1\u001B[0m\u001B[0;34m)\u001B[0m\u001B[0;34m[\u001B[0m\u001B[0;36m1\u001B[0m\u001B[0;34m]\u001B[0m\u001B[0;34m,\u001B[0m \u001B[0mstackTrace\u001B[0m\u001B[0;34m)\u001B[0m\u001B[0;34m\u001B[0m\u001B[0m\n\u001B[0m\u001B[1;32m     70\u001B[0m             \u001B[0;32mif\u001B[0m \u001B[0ms\u001B[0m\u001B[0;34m.\u001B[0m\u001B[0mstartswith\u001B[0m\u001B[0;34m(\u001B[0m\u001B[0;34m'org.apache.spark.sql.catalyst.analysis'\u001B[0m\u001B[0;34m)\u001B[0m\u001B[0;34m:\u001B[0m\u001B[0;34m\u001B[0m\u001B[0m\n\u001B[1;32m     71\u001B[0m                 \u001B[0;32mraise\u001B[0m \u001B[0mAnalysisException\u001B[0m\u001B[0;34m(\u001B[0m\u001B[0ms\u001B[0m\u001B[0;34m.\u001B[0m\u001B[0msplit\u001B[0m\u001B[0;34m(\u001B[0m\u001B[0;34m': '\u001B[0m\u001B[0;34m,\u001B[0m \u001B[0;36m1\u001B[0m\u001B[0;34m)\u001B[0m\u001B[0;34m[\u001B[0m\u001B[0;36m1\u001B[0m\u001B[0;34m]\u001B[0m\u001B[0;34m,\u001B[0m \u001B[0mstackTrace\u001B[0m\u001B[0;34m)\u001B[0m\u001B[0;34m\u001B[0m\u001B[0m\n",
      "\u001B[0;31mAnalysisException\u001B[0m: \"cannot resolve 'isnan(`ScheduledDay`)' due to data type mismatch: argument 1 requires (double or float) type, however, '`ScheduledDay`' is of timestamp type.;;\\n'Aggregate [count(CASE WHEN (isnan(cast(PatientId#0 as double)) || isnull(PatientId#0)) THEN PatientId END) AS PatientId#739L, count(CASE WHEN (isnan(cast(AppointmentID#1 as double)) || isnull(AppointmentID#1)) THEN AppointmentID END) AS AppointmentID#741L, count(CASE WHEN (isnan(cast(Gender#2 as double)) || isnull(Gender#2)) THEN Gender END) AS Gender#743L, count(CASE WHEN (isnan(ScheduledDay#3) || isnull(ScheduledDay#3)) THEN ScheduledDay END) AS ScheduledDay#745, count(CASE WHEN (isnan(AppointmentDay#4) || isnull(AppointmentDay#4)) THEN AppointmentDay END) AS AppointmentDay#747, count(CASE WHEN (isnan(cast(Age#5 as double)) || isnull(Age#5)) THEN Age END) AS Age#749L, count(CASE WHEN (isnan(cast(Neighbourhood#6 as double)) || isnull(Neighbourhood#6)) THEN Neighbourhood END) AS Neighbourhood#751L, count(CASE WHEN (isnan(cast(Scholarship#7 as double)) || isnull(Scholarship#7)) THEN Scholarship END) AS Scholarship#753L, count(CASE WHEN (isnan(cast(Hipertension#8 as double)) || isnull(Hipertension#8)) THEN Hipertension END) AS Hipertension#755L, count(CASE WHEN (isnan(cast(Diabetes#9 as double)) || isnull(Diabetes#9)) THEN Diabetes END) AS Diabetes#757L, count(CASE WHEN (isnan(cast(Alcoholism#10 as double)) || isnull(Alcoholism#10)) THEN Alcoholism END) AS Alcoholism#759L, count(CASE WHEN (isnan(cast(Handcap#11 as double)) || isnull(Handcap#11)) THEN Handcap END) AS Handcap#761L, count(CASE WHEN (isnan(cast(SMS_received#12 as double)) || isnull(SMS_received#12)) THEN SMS_received END) AS SMS_received#763L, count(CASE WHEN (isnan(cast(No-show#13 as double)) || isnull(No-show#13)) THEN No-show END) AS No-show#765L]\\n+- Relation[PatientId#0,AppointmentID#1,Gender#2,ScheduledDay#3,AppointmentDay#4,Age#5,Neighbourhood#6,Scholarship#7,Hipertension#8,Diabetes#9,Alcoholism#10,Handcap#11,SMS_received#12,No-show#13] csv\\n\""
     ]
    }
   ],
   "source": [
    "#Checking for Nulls\n",
    "from pyspark.sql.functions import isnan, when, count, col\n",
    "df.describe().filter(col(\"summary\") == \"count\").show()\n",
    "df.select([count(when(isnan(c) | col(c).isNull(),c)).alias(c) for c in df.columns]).show()"
   ]
  },
  {
   "cell_type": "code",
   "execution_count": 10,
   "metadata": {},
   "outputs": [
    {
     "name": "stdout",
     "output_type": "stream",
     "text": [
      "['PatientId', 'Gender', 'Age', 'Neighbourhood', 'Scholarship', 'Hipertension', 'Diabetes', 'Alcoholism', 'Handcap', 'SMS_received', 'No-show']\n"
     ]
    }
   ],
   "source": [
    "#Selecting the Attributes\n",
    "newdf = df.drop('ScheduledDay','AppointmentDay','AppointmentID')\n",
    "print(newdf.columns)"
   ]
  },
  {
   "cell_type": "code",
   "execution_count": 11,
   "metadata": {},
   "outputs": [
    {
     "name": "stdout",
     "output_type": "stream",
     "text": [
      "root\n",
      " |-- PatientId: decimal(15,0) (nullable = true)\n",
      " |-- Gender: string (nullable = true)\n",
      " |-- Age: integer (nullable = true)\n",
      " |-- Neighbourhood: string (nullable = true)\n",
      " |-- Scholarship: integer (nullable = true)\n",
      " |-- Hipertension: integer (nullable = true)\n",
      " |-- Diabetes: integer (nullable = true)\n",
      " |-- Alcoholism: integer (nullable = true)\n",
      " |-- Handcap: integer (nullable = true)\n",
      " |-- SMS_received: integer (nullable = true)\n",
      " |-- No-show: string (nullable = true)\n",
      "\n",
      "2999 11\n"
     ]
    }
   ],
   "source": [
    "newdf.printSchema()\n",
    "print(newdf.count(),len(newdf.columns))"
   ]
  },
  {
   "cell_type": "code",
   "execution_count": 12,
   "metadata": {},
   "outputs": [
    {
     "name": "stdout",
     "output_type": "stream",
     "text": [
      "root\n",
      " |-- PatientId: decimal(15,0) (nullable = true)\n",
      " |-- Gender: string (nullable = true)\n",
      " |-- Age: integer (nullable = true)\n",
      " |-- Neighbourhood: string (nullable = true)\n",
      " |-- Scholarship: integer (nullable = true)\n",
      " |-- Hipertension: integer (nullable = true)\n",
      " |-- Diabetes: integer (nullable = true)\n",
      " |-- Alcoholism: integer (nullable = true)\n",
      " |-- Handcap: integer (nullable = true)\n",
      " |-- SMS_received: integer (nullable = true)\n",
      " |-- No-show: string (nullable = true)\n",
      "\n",
      "+---------+------+---+-------------+-----------+------------+--------+----------+-------+------------+-------+\n",
      "|PatientId|Gender|Age|Neighbourhood|Scholarship|Hipertension|Diabetes|Alcoholism|Handcap|SMS_received|No-show|\n",
      "+---------+------+---+-------------+-----------+------------+--------+----------+-------+------------+-------+\n",
      "|        0|     0|  0|            0|          0|           0|       0|         0|      0|           0|      0|\n",
      "+---------+------+---+-------------+-----------+------------+--------+----------+-------+------------+-------+\n",
      "\n"
     ]
    }
   ],
   "source": [
    "#Dropping any Null and missing values\n",
    "newdf.printSchema()\n",
    "newdf.dropna()\n",
    "newdf.select([count(when(isnan(c) | col(c).isNull(),c)).alias(c) for c in newdf.columns]).show()\n"
   ]
  },
  {
   "cell_type": "code",
   "execution_count": 13,
   "metadata": {},
   "outputs": [
    {
     "name": "stdout",
     "output_type": "stream",
     "text": [
      "PatientId \t with null values:  0\n",
      "Gender \t with null values:  0\n",
      "Age \t with null values:  0\n",
      "Neighbourhood \t with null values:  0\n",
      "Scholarship \t with null values:  0\n",
      "Hipertension \t with null values:  0\n",
      "Diabetes \t with null values:  0\n",
      "Alcoholism \t with null values:  0\n",
      "Handcap \t with null values:  0\n",
      "SMS_received \t with null values:  0\n",
      "No-show \t with null values:  0\n"
     ]
    }
   ],
   "source": [
    "for col in newdf.columns:\n",
    "    print(col,\"\\t\",\"with null values: \",newdf.filter(newdf[col].isNull()).count())"
   ]
  },
  {
   "cell_type": "code",
   "execution_count": 14,
   "metadata": {},
   "outputs": [
    {
     "name": "stdout",
     "output_type": "stream",
     "text": [
      "+---+\n",
      "|Age|\n",
      "+---+\n",
      "|31 |\n",
      "|85 |\n",
      "|65 |\n",
      "|53 |\n",
      "|78 |\n",
      "|34 |\n",
      "|81 |\n",
      "|28 |\n",
      "|76 |\n",
      "|27 |\n",
      "|26 |\n",
      "|44 |\n",
      "|12 |\n",
      "|91 |\n",
      "|22 |\n",
      "|47 |\n",
      "|1  |\n",
      "|52 |\n",
      "|13 |\n",
      "|6  |\n",
      "|16 |\n",
      "|86 |\n",
      "|3  |\n",
      "|40 |\n",
      "|20 |\n",
      "|94 |\n",
      "|57 |\n",
      "|54 |\n",
      "|48 |\n",
      "|5  |\n",
      "|19 |\n",
      "|64 |\n",
      "|41 |\n",
      "|15 |\n",
      "|43 |\n",
      "|37 |\n",
      "|61 |\n",
      "|88 |\n",
      "|17 |\n",
      "|9  |\n",
      "|72 |\n",
      "|35 |\n",
      "|4  |\n",
      "|59 |\n",
      "|55 |\n",
      "|8  |\n",
      "|23 |\n",
      "|39 |\n",
      "|49 |\n",
      "|7  |\n",
      "|84 |\n",
      "|87 |\n",
      "|51 |\n",
      "|69 |\n",
      "|63 |\n",
      "|10 |\n",
      "|77 |\n",
      "|50 |\n",
      "|45 |\n",
      "|38 |\n",
      "|82 |\n",
      "|80 |\n",
      "|73 |\n",
      "|25 |\n",
      "|24 |\n",
      "|70 |\n",
      "|62 |\n",
      "|29 |\n",
      "|21 |\n",
      "|98 |\n",
      "|32 |\n",
      "|60 |\n",
      "|90 |\n",
      "|75 |\n",
      "|56 |\n",
      "|58 |\n",
      "|11 |\n",
      "|33 |\n",
      "|83 |\n",
      "|71 |\n",
      "|68 |\n",
      "|14 |\n",
      "|42 |\n",
      "|79 |\n",
      "|2  |\n",
      "|30 |\n",
      "|66 |\n",
      "|46 |\n",
      "|67 |\n",
      "|18 |\n",
      "|74 |\n",
      "|36 |\n",
      "|89 |\n",
      "+---+\n",
      "\n"
     ]
    }
   ],
   "source": [
    "#Data Cleaning for Age\n",
    "import pyspark.sql.functions as fun\n",
    "newdf = newdf.withColumn(\n",
    "\"Age\",\n",
    "    fun.when(\n",
    "        (fun.col(\"Age\") >0)&\n",
    "        (fun.col(\"Age\") <=100), fun.col(\"Age\")).otherwise(fun.lit(None))\n",
    ")\n",
    "na_df = newdf.dropna()\n",
    "na_df.select('Age').distinct().show(1000,False)"
   ]
  },
  {
   "cell_type": "code",
   "execution_count": 15,
   "metadata": {},
   "outputs": [
    {
     "name": "stdout",
     "output_type": "stream",
     "text": [
      "+--------+--------+\n",
      "|min(Age)|max(Age)|\n",
      "+--------+--------+\n",
      "|1       |98      |\n",
      "+--------+--------+\n",
      "\n"
     ]
    }
   ],
   "source": [
    "na_df.createOrReplaceTempView('data')\n",
    "Results = spark.sql(\"SELECT min(Age), max(Age) FROM data\")\n",
    "Results.show(100,False)"
   ]
  },
  {
   "cell_type": "code",
   "execution_count": 16,
   "metadata": {},
   "outputs": [
    {
     "name": "stdout",
     "output_type": "stream",
     "text": [
      "2872 11\n"
     ]
    }
   ],
   "source": [
    "print(na_df.count(),len(na_df.columns))"
   ]
  },
  {
   "cell_type": "code",
   "execution_count": 17,
   "metadata": {},
   "outputs": [
    {
     "name": "stdout",
     "output_type": "stream",
     "text": [
      "+-------+\n",
      "|Illness|\n",
      "+-------+\n",
      "|  false|\n",
      "|  false|\n",
      "|  false|\n",
      "|  false|\n",
      "|   true|\n",
      "|  false|\n",
      "|  false|\n",
      "|  false|\n",
      "|  false|\n",
      "|  false|\n",
      "|  false|\n",
      "|  false|\n",
      "|  false|\n",
      "|  false|\n",
      "|  false|\n",
      "|  false|\n",
      "|  false|\n",
      "|  false|\n",
      "|  false|\n",
      "|  false|\n",
      "+-------+\n",
      "only showing top 20 rows\n",
      "\n"
     ]
    }
   ],
   "source": [
    "# Deriving New Column\n",
    "df1 = na_df.withColumn('Illness',(fun.col('Diabetes') == 1 ) & (fun.col('Hipertension') == 1))\n",
    "df1.select('Illness').show()"
   ]
  },
  {
   "cell_type": "code",
   "execution_count": 18,
   "metadata": {},
   "outputs": [
    {
     "name": "stdout",
     "output_type": "stream",
     "text": [
      "954 11\n",
      "954 12\n",
      "2872 12\n"
     ]
    }
   ],
   "source": [
    "#Merging the data\n",
    "data2 = spark.read.load(\"./KaggleV2-May-2016-formerge.csv\",format=\"csv\",inferSchema=True, header=\"true\")\n",
    "newdf2 = data2.drop('ScheduledDay','AppointmentDay','AppointmentID')\n",
    "import pyspark.sql.functions as fun\n",
    "newdf2 = newdf2.withColumn(\n",
    "\"Age\",\n",
    "    fun.when(\n",
    "        (fun.col(\"Age\") >0)&\n",
    "        (fun.col(\"Age\") <=100), fun.col(\"Age\")).otherwise(fun.lit(None))\n",
    ")\n",
    "na_df2 = newdf2.dropna()\n",
    "print(na_df2.count(),len(na_df2.columns))\n",
    "df2 = na_df2.withColumn('Illness',(fun.col('Diabetes') == 1 ) & (fun.col('Hipertension') == 1))\n",
    "print(df2.count(),len(df2.columns))\n",
    "print(df1.count(),len(df1.columns))"
   ]
  },
  {
   "cell_type": "code",
   "execution_count": 19,
   "metadata": {},
   "outputs": [
    {
     "name": "stdout",
     "output_type": "stream",
     "text": [
      "3826 12\n"
     ]
    }
   ],
   "source": [
    "#Merging\n",
    "finaldf = df1.union(df2)\n",
    "print(finaldf.count(),len(finaldf.columns))"
   ]
  },
  {
   "cell_type": "code",
   "execution_count": 20,
   "metadata": {},
   "outputs": [
    {
     "name": "stdout",
     "output_type": "stream",
     "text": [
      "root\n",
      " |-- PatientId: decimal(15,0) (nullable = true)\n",
      " |-- Gender: string (nullable = true)\n",
      " |-- Age: integer (nullable = true)\n",
      " |-- Neighbourhood: string (nullable = true)\n",
      " |-- Scholarship: integer (nullable = true)\n",
      " |-- Hipertension: integer (nullable = true)\n",
      " |-- Diabetes: integer (nullable = true)\n",
      " |-- Alcoholism: integer (nullable = true)\n",
      " |-- Handcap: integer (nullable = true)\n",
      " |-- SMS_received: integer (nullable = true)\n",
      " |-- No-show: string (nullable = true)\n",
      " |-- Illness: boolean (nullable = true)\n",
      "\n"
     ]
    }
   ],
   "source": [
    "finaldf.printSchema()"
   ]
  },
  {
   "cell_type": "code",
   "execution_count": 21,
   "metadata": {},
   "outputs": [
    {
     "name": "stdout",
     "output_type": "stream",
     "text": [
      "root\n",
      " |-- PatientId: decimal(15,0) (nullable = true)\n",
      " |-- Gender: string (nullable = true)\n",
      " |-- Age: integer (nullable = true)\n",
      " |-- Neighbourhood: string (nullable = true)\n",
      " |-- Scholarship: integer (nullable = true)\n",
      " |-- Hipertension: integer (nullable = true)\n",
      " |-- Diabetes: integer (nullable = true)\n",
      " |-- Alcoholism: integer (nullable = true)\n",
      " |-- Handcap: integer (nullable = true)\n",
      " |-- SMS_received: integer (nullable = true)\n",
      " |-- No-show: string (nullable = true)\n",
      " |-- Illness: boolean (nullable = true)\n",
      "\n",
      "+------+\n",
      "|Gender|\n",
      "+------+\n",
      "|F     |\n",
      "|M     |\n",
      "+------+\n",
      "\n"
     ]
    }
   ],
   "source": [
    "finaldf.printSchema()\n",
    "finaldf.select('Gender').distinct().show(1000,False)"
   ]
  },
  {
   "cell_type": "code",
   "execution_count": 22,
   "metadata": {},
   "outputs": [
    {
     "name": "stdout",
     "output_type": "stream",
     "text": [
      "+---------------+------+---+-----------------+-----------+------------+--------+----------+-------+------------+-------+-------+\n",
      "|      PatientId|Gender|Age|    Neighbourhood|Scholarship|Hipertension|Diabetes|Alcoholism|Handcap|SMS_received|No-show|Illness|\n",
      "+---------------+------+---+-----------------+-----------+------------+--------+----------+-------+------------+-------+-------+\n",
      "| 29872500000000|     F| 62|  JARDIM DA PENHA|          0|           1|       0|         0|      0|           0|     No|  false|\n",
      "|558998000000000|     M| 56|  JARDIM DA PENHA|          0|           0|       0|         0|      0|           0|     No|  false|\n",
      "|  4262960000000|     F| 62|    MATA DA PRAIA|          0|           0|       0|         0|      0|           0|     No|  false|\n",
      "|   867951000000|     F|  8|PONTAL DE CAMBURI|          0|           0|       0|         0|      0|           0|     No|  false|\n",
      "|  8841190000000|     F| 56|  JARDIM DA PENHA|          0|           1|       1|         0|      0|           0|     No|   true|\n",
      "+---------------+------+---+-----------------+-----------+------------+--------+----------+-------+------------+-------+-------+\n",
      "only showing top 5 rows\n",
      "\n"
     ]
    }
   ],
   "source": [
    "finaldf.show(5)"
   ]
  },
  {
   "cell_type": "code",
   "execution_count": 23,
   "metadata": {},
   "outputs": [],
   "source": [
    "from pyspark.ml.feature import StringIndexer\n",
    "encodeddf = finaldf\n",
    "x = finaldf.columns\n",
    "x.remove(\"Illness\") #Its already boolean\n",
    "for i in x:\n",
    "    ic = i\n",
    "    oc = i+\" encoded\" \n",
    "    indexer = StringIndexer(inputCol=ic, outputCol=oc)\n",
    "    encodeddf = indexer.fit(encodeddf).transform(encodeddf)"
   ]
  },
  {
   "cell_type": "code",
   "execution_count": 24,
   "metadata": {},
   "outputs": [],
   "source": [
    "y = [i for i in encodeddf.columns if i not in x] #storing only those columns which are numerical\n",
    "encodeddf = encodeddf[y]\n"
   ]
  },
  {
   "cell_type": "code",
   "execution_count": 25,
   "metadata": {},
   "outputs": [
    {
     "name": "stdout",
     "output_type": "stream",
     "text": [
      "+-------+-----------------+--------------+-----------+---------------------+-------------------+--------------------+----------------+------------------+---------------+--------------------+---------------+\n",
      "|Illness|PatientId encoded|Gender encoded|Age encoded|Neighbourhood encoded|Scholarship encoded|Hipertension encoded|Diabetes encoded|Alcoholism encoded|Handcap encoded|SMS_received encoded|No-show encoded|\n",
      "+-------+-----------------+--------------+-----------+---------------------+-------------------+--------------------+----------------+------------------+---------------+--------------------+---------------+\n",
      "|  false|            332.0|           0.0|       17.0|                  2.0|                0.0|                 1.0|             0.0|               0.0|            0.0|                 0.0|            0.0|\n",
      "|  false|            187.0|           1.0|       27.0|                  2.0|                0.0|                 0.0|             0.0|               0.0|            0.0|                 0.0|            0.0|\n",
      "|  false|            323.0|           0.0|       17.0|                 53.0|                0.0|                 0.0|             0.0|               0.0|            0.0|                 0.0|            0.0|\n",
      "|  false|           2815.0|           0.0|       14.0|                 77.0|                0.0|                 0.0|             0.0|               0.0|            0.0|                 0.0|            0.0|\n",
      "|   true|           1243.0|           0.0|       27.0|                  2.0|                0.0|                 1.0|             1.0|               0.0|            0.0|                 0.0|            0.0|\n",
      "+-------+-----------------+--------------+-----------+---------------------+-------------------+--------------------+----------------+------------------+---------------+--------------------+---------------+\n",
      "only showing top 5 rows\n",
      "\n"
     ]
    }
   ],
   "source": [
    "encodeddf.show(5)"
   ]
  },
  {
   "cell_type": "code",
   "execution_count": 26,
   "metadata": {},
   "outputs": [
    {
     "name": "stdout",
     "output_type": "stream",
     "text": [
      "root\n",
      " |-- Illness: boolean (nullable = true)\n",
      " |-- PatientId encoded: double (nullable = true)\n",
      " |-- Gender encoded: double (nullable = true)\n",
      " |-- Age encoded: double (nullable = true)\n",
      " |-- Neighbourhood encoded: double (nullable = true)\n",
      " |-- Scholarship encoded: double (nullable = true)\n",
      " |-- Hipertension encoded: double (nullable = true)\n",
      " |-- Diabetes encoded: double (nullable = true)\n",
      " |-- Alcoholism encoded: double (nullable = true)\n",
      " |-- Handcap encoded: double (nullable = true)\n",
      " |-- SMS_received encoded: double (nullable = true)\n",
      " |-- No-show encoded: double (nullable = true)\n",
      "\n"
     ]
    }
   ],
   "source": [
    "encodeddf.printSchema()"
   ]
  },
  {
   "cell_type": "code",
   "execution_count": 27,
   "metadata": {},
   "outputs": [],
   "source": [
    "df = encodeddf"
   ]
  },
  {
   "cell_type": "code",
   "execution_count": 28,
   "metadata": {},
   "outputs": [
    {
     "name": "stdout",
     "output_type": "stream",
     "text": [
      "root\n",
      " |-- Illness: boolean (nullable = true)\n",
      " |-- PatientId encoded: double (nullable = true)\n",
      " |-- Gender encoded: double (nullable = true)\n",
      " |-- Age encoded: double (nullable = true)\n",
      " |-- Neighbourhood encoded: double (nullable = true)\n",
      " |-- Scholarship encoded: double (nullable = true)\n",
      " |-- Hipertension encoded: double (nullable = true)\n",
      " |-- Diabetes encoded: double (nullable = true)\n",
      " |-- Alcoholism encoded: double (nullable = true)\n",
      " |-- Handcap encoded: double (nullable = true)\n",
      " |-- SMS_received encoded: double (nullable = true)\n",
      " |-- No-show encoded: double (nullable = true)\n",
      "\n"
     ]
    }
   ],
   "source": [
    "df.printSchema()"
   ]
  },
  {
   "cell_type": "code",
   "execution_count": 29,
   "metadata": {},
   "outputs": [
    {
     "name": "stdout",
     "output_type": "stream",
     "text": [
      "+-------+-----------------+--------------+-----------+---------------------+-------------------+--------------------+----------------+------------------+---------------+--------------------+---------------+\n",
      "|Illness|PatientId encoded|Gender encoded|Age encoded|Neighbourhood encoded|Scholarship encoded|Hipertension encoded|Diabetes encoded|Alcoholism encoded|Handcap encoded|SMS_received encoded|No-show encoded|\n",
      "+-------+-----------------+--------------+-----------+---------------------+-------------------+--------------------+----------------+------------------+---------------+--------------------+---------------+\n",
      "|  false|            332.0|           0.0|       17.0|                  2.0|                0.0|                 1.0|             0.0|               0.0|            0.0|                 0.0|            0.0|\n",
      "|  false|            187.0|           1.0|       27.0|                  2.0|                0.0|                 0.0|             0.0|               0.0|            0.0|                 0.0|            0.0|\n",
      "|  false|            323.0|           0.0|       17.0|                 53.0|                0.0|                 0.0|             0.0|               0.0|            0.0|                 0.0|            0.0|\n",
      "|  false|           2815.0|           0.0|       14.0|                 77.0|                0.0|                 0.0|             0.0|               0.0|            0.0|                 0.0|            0.0|\n",
      "|   true|           1243.0|           0.0|       27.0|                  2.0|                0.0|                 1.0|             1.0|               0.0|            0.0|                 0.0|            0.0|\n",
      "+-------+-----------------+--------------+-----------+---------------------+-------------------+--------------------+----------------+------------------+---------------+--------------------+---------------+\n",
      "only showing top 5 rows\n",
      "\n",
      "+--------------+\n",
      "|Gender encoded|\n",
      "+--------------+\n",
      "|0.0           |\n",
      "|1.0           |\n",
      "+--------------+\n",
      "\n"
     ]
    }
   ],
   "source": [
    "df.show(5)\n",
    "df.select('Gender encoded').distinct().show(1000,False)"
   ]
  },
  {
   "cell_type": "code",
   "execution_count": 30,
   "metadata": {},
   "outputs": [],
   "source": [
    "from pyspark.sql.functions import col\n",
    "\n",
    "replacements = {c:c.replace(' encoded','') for c in df.columns }\n",
    "\n",
    "df = df.select([col(c).alias(replacements.get(c, c)) for c in df.columns]) "
   ]
  },
  {
   "cell_type": "code",
   "execution_count": 31,
   "metadata": {},
   "outputs": [
    {
     "name": "stdout",
     "output_type": "stream",
     "text": [
      "root\n",
      " |-- Illness: boolean (nullable = true)\n",
      " |-- PatientId: double (nullable = true)\n",
      " |-- Gender: double (nullable = true)\n",
      " |-- Age: double (nullable = true)\n",
      " |-- Neighbourhood: double (nullable = true)\n",
      " |-- Scholarship: double (nullable = true)\n",
      " |-- Hipertension: double (nullable = true)\n",
      " |-- Diabetes: double (nullable = true)\n",
      " |-- Alcoholism: double (nullable = true)\n",
      " |-- Handcap: double (nullable = true)\n",
      " |-- SMS_received: double (nullable = true)\n",
      " |-- No-show: double (nullable = true)\n",
      "\n"
     ]
    }
   ],
   "source": [
    "df.printSchema()"
   ]
  },
  {
   "cell_type": "code",
   "execution_count": 32,
   "metadata": {},
   "outputs": [
    {
     "name": "stdout",
     "output_type": "stream",
     "text": [
      "+-------+---------+------+----+-------------+-----------+------------+--------+----------+-------+------------+-------+\n",
      "|Illness|PatientId|Gender| Age|Neighbourhood|Scholarship|Hipertension|Diabetes|Alcoholism|Handcap|SMS_received|No-show|\n",
      "+-------+---------+------+----+-------------+-----------+------------+--------+----------+-------+------------+-------+\n",
      "|  false|    332.0|   0.0|17.0|          2.0|        0.0|         1.0|     0.0|       0.0|    0.0|         0.0|    0.0|\n",
      "|  false|    187.0|   1.0|27.0|          2.0|        0.0|         0.0|     0.0|       0.0|    0.0|         0.0|    0.0|\n",
      "|  false|    323.0|   0.0|17.0|         53.0|        0.0|         0.0|     0.0|       0.0|    0.0|         0.0|    0.0|\n",
      "|  false|   2815.0|   0.0|14.0|         77.0|        0.0|         0.0|     0.0|       0.0|    0.0|         0.0|    0.0|\n",
      "|   true|   1243.0|   0.0|27.0|          2.0|        0.0|         1.0|     1.0|       0.0|    0.0|         0.0|    0.0|\n",
      "+-------+---------+------+----+-------------+-----------+------------+--------+----------+-------+------------+-------+\n",
      "only showing top 5 rows\n",
      "\n"
     ]
    }
   ],
   "source": [
    "df.show(5)"
   ]
  },
  {
   "cell_type": "code",
   "execution_count": 35,
   "metadata": {},
   "outputs": [
    {
     "data": {
      "image/png": "[encoded data removed]",
      "text/plain": [
       "<Figure size 1584x720 with 2 Axes>"
      ]
     },
     "metadata": {},
     "output_type": "display_data"
    }
   ],
   "source": [
    "\n",
    "#4.1 Data deduction - correlation matrix with heatmap \n",
    "from pyspark.mllib.stat import Statistics\n",
    "from pyspark import SparkContext, SparkConf\n",
    "import matplotlib.pyplot as plt\n",
    "import seaborn as sns\n",
    "import matplotlib.pyplot as plt\n",
    "conf = SparkConf().setAppName('dsom167_BDAS').setMaster(\"local[*]\")\n",
    "sc = SparkContext.getOrCreate(conf)\n",
    "\n",
    "resultRDD = df.rdd.map(lambda row: row[0:])\n",
    "corrlation_matrix = Statistics.corr(resultRDD, method = 'pearson')\n",
    "rdd0 = sc.parallelize(corrlation_matrix)\n",
    "rdd1 = rdd0.map(lambda x: [float(i) for i in x])\n",
    "corrlation_matrix[1]\n",
    "\n",
    "plt.figure(figsize=(22,10))\n",
    "sns.heatmap(corrlation_matrix, cmap=\"Reds\", annot = True)\n",
    "plt.show()\n"
   ]
  },
  {
   "cell_type": "code",
   "execution_count": 36,
   "metadata": {},
   "outputs": [
    {
     "name": "stdout",
     "output_type": "stream",
     "text": [
      "+-----------+\n",
      "|Age_binning|\n",
      "+-----------+\n",
      "|4          |\n",
      "|2          |\n",
      "|4          |\n",
      "|4          |\n",
      "|2          |\n",
      "|3          |\n",
      "|4          |\n",
      "|1          |\n",
      "|4          |\n",
      "|0          |\n",
      "|4          |\n",
      "|4          |\n",
      "|4          |\n",
      "|4          |\n",
      "|2          |\n",
      "|0          |\n",
      "|4          |\n",
      "|4          |\n",
      "|4          |\n",
      "|4          |\n",
      "|4          |\n",
      "|4          |\n",
      "|0          |\n",
      "|4          |\n",
      "|4          |\n",
      "|4          |\n",
      "|4          |\n",
      "|4          |\n",
      "|2          |\n",
      "|1          |\n",
      "|4          |\n",
      "|0          |\n",
      "|4          |\n",
      "|1          |\n",
      "|3          |\n",
      "|0          |\n",
      "|4          |\n",
      "|4          |\n",
      "|4          |\n",
      "|2          |\n",
      "|2          |\n",
      "|3          |\n",
      "|4          |\n",
      "|4          |\n",
      "|3          |\n",
      "|1          |\n",
      "|2          |\n",
      "|1          |\n",
      "|2          |\n",
      "|4          |\n",
      "|0          |\n",
      "|4          |\n",
      "|4          |\n",
      "|4          |\n",
      "|4          |\n",
      "|4          |\n",
      "|0          |\n",
      "|0          |\n",
      "|4          |\n",
      "|4          |\n",
      "|4          |\n",
      "|4          |\n",
      "|4          |\n",
      "|4          |\n",
      "|2          |\n",
      "|4          |\n",
      "|4          |\n",
      "|4          |\n",
      "|4          |\n",
      "|4          |\n",
      "|4          |\n",
      "|4          |\n",
      "|4          |\n",
      "|4          |\n",
      "|4          |\n",
      "|4          |\n",
      "|4          |\n",
      "|3          |\n",
      "|1          |\n",
      "|4          |\n",
      "|4          |\n",
      "|4          |\n",
      "|4          |\n",
      "|4          |\n",
      "|0          |\n",
      "|4          |\n",
      "|4          |\n",
      "|4          |\n",
      "|4          |\n",
      "|4          |\n",
      "|4          |\n",
      "|1          |\n",
      "|2          |\n",
      "|4          |\n",
      "|4          |\n",
      "|2          |\n",
      "|4          |\n",
      "|2          |\n",
      "|2          |\n",
      "|4          |\n",
      "+-----------+\n",
      "only showing top 100 rows\n",
      "\n"
     ]
    }
   ],
   "source": [
    "from pyspark.sql.types import *\n",
    "from pyspark.sql.functions import lower, col, udf\n",
    "def categorizer (Age):\n",
    "    if Age > 10 and Age < 20:\n",
    "        return \"0\"\n",
    "    elif Age > 30 and Age < 40:\n",
    "        return \"1\"\n",
    "    elif Age > 50 and Age < 60:\n",
    "        return \"2\"\n",
    "    elif Age > 70 and Age < 80:\n",
    "        return \"3\"\n",
    "    else:\n",
    "        return \"4\"\n",
    "bucket_udf = udf(categorizer, StringType())\n",
    "result = finaldf.withColumn(\"Age_binning\", bucket_udf(\"Age\"))\n",
    "\n",
    "result.select(\"Age_binning\").show(100, False)\n"
   ]
  },
  {
   "cell_type": "code",
   "execution_count": 37,
   "metadata": {},
   "outputs": [],
   "source": [
    "\n",
    "#Convert columns and transform them to numerical\n",
    "from pyspark.ml.feature import OneHotEncoder\n",
    "from pyspark.ml.feature import StringIndexer\n",
    "\n",
    "column_vec_in = ['PatientId',\n",
    "             'Gender',\n",
    "             'Age',\n",
    "             'Neighbourhood',\n",
    "             'Scholarship',\n",
    "             'Hipertension',\n",
    "             'Diabetes',\n",
    "             'Alcoholism',\n",
    "             'Handcap',\n",
    "             'SMS_received']\n",
    "\n",
    "column_vec_out = ['PatientId_Vec',\n",
    "             'Gender_Vec',\n",
    "             'Age_Vec',\n",
    "             'Neighbourhood_Vec',\n",
    "             'Scholarship_Vec',\n",
    "             'Hipertension_Vec',\n",
    "             'Diabetes_Vec',\n",
    "             'Alcoholism_Vec',\n",
    "             'Handcap_Vec',\n",
    "             'SMS_received_Vec']\n",
    "\n",
    "indexers = [StringIndexer(inputCol = x, outputCol=x + \"_tmp\") for x in column_vec_in]\n",
    "\n",
    "encoders = [OneHotEncoder(dropLast=False, inputCol = x + \"_tmp\", outputCol = y)\n",
    "           for x, y in zip(column_vec_in, column_vec_out)]\n",
    "\n",
    "tmp = [[i, j] for i, j in zip(indexers, encoders)]\n",
    "tmp = [i for sublist in tmp for i in sublist]"
   ]
  },
  {
   "cell_type": "code",
   "execution_count": 38,
   "metadata": {},
   "outputs": [],
   "source": [
    "#combining atttributes into the of features and target is treatment\n",
    "from pyspark.ml.linalg import Vectors\n",
    "from pyspark.ml.feature import VectorAssembler\n",
    "from pyspark.ml import Pipeline\n",
    "\n",
    "cols_now = ['PatientId_Vec',\n",
    "             'Gender_Vec',\n",
    "             'Age_Vec',\n",
    "             'Neighbourhood_Vec',\n",
    "             'Scholarship_Vec',\n",
    "             'Hipertension_Vec',\n",
    "             'Diabetes_Vec',\n",
    "             'Alcoholism_Vec',\n",
    "             'Handcap_Vec',\n",
    "             'SMS_received_Vec']\n",
    "\n",
    "assembler_features = VectorAssembler(inputCols = cols_now, outputCol= \"features\")\n",
    "labelIndexer = StringIndexer(inputCol = 'No-show', outputCol= \"label\")\n",
    "tmp += [assembler_features, labelIndexer]\n",
    "pipeline = Pipeline(stages = tmp)"
   ]
  },
  {
   "cell_type": "code",
   "execution_count": 39,
   "metadata": {},
   "outputs": [
    {
     "name": "stdout",
     "output_type": "stream",
     "text": [
      "Distribution of Positive and Negative in trainingData is:  [Row(label=0.0, count=2153), Row(label=1.0, count=557)]\n"
     ]
    }
   ],
   "source": [
    "#Training Data split 70% and 30%\n",
    "allData = pipeline.fit(finaldf).transform(finaldf)\n",
    "allData.cache()\n",
    "\n",
    "trainingData, testData = allData.randomSplit([0.7, 0.3], seed=0)\n",
    "print(\"Distribution of Positive and Negative in trainingData is: \", trainingData.groupBy(\"label\").count().take(3))"
   ]
  },
  {
   "cell_type": "code",
   "execution_count": 40,
   "metadata": {},
   "outputs": [
    {
     "data": {
      "text/plain": [
       "SparseVector(3580, {5: 0.105, 32: 0.0702, 3434: 0.0617, 3488: 0.1048, 3566: 0.0878, 3578: 0.5705})"
      ]
     },
     "execution_count": 40,
     "metadata": {},
     "output_type": "execute_result"
    }
   ],
   "source": [
    "#Decision Tree Classifier\n",
    "from pyspark.ml.classification import DecisionTreeClassifier as DT\n",
    "tree = DT(labelCol = \"label\", featuresCol = \"features\", maxDepth = 3)\n",
    "tree_fit = tree.fit(trainingData)\n",
    "tree_transformed = tree_fit.transform(testData)\n",
    "\n",
    "tree_fit.featureImportances"
   ]
  },
  {
   "cell_type": "code",
   "execution_count": 41,
   "metadata": {},
   "outputs": [
    {
     "name": "stdout",
     "output_type": "stream",
     "text": [
      "The ROC score is:  0.6017362461178075\n",
      "Area under PR = 0.8831484526632888\n",
      "              precision    recall  f1-score   support\n",
      "\n",
      "         0.0       0.79      1.00      0.88       879\n",
      "         1.0       0.67      0.01      0.02       237\n",
      "\n",
      "    accuracy                           0.79      1116\n",
      "   macro avg       0.73      0.50      0.45      1116\n",
      "weighted avg       0.76      0.79      0.70      1116\n",
      "\n"
     ]
    }
   ],
   "source": [
    "#Decision Tree\n",
    "from pyspark.mllib.evaluation import BinaryClassificationMetrics as metric\n",
    "from pyspark import SparkContext, SparkConf\n",
    "from sklearn.metrics import classification_report, confusion_matrix\n",
    "conf = SparkConf().setAppName('dsom167_BDAS').setMaster(\"local[*]\")\n",
    "sc = SparkContext.getOrCreate(conf)\n",
    "\n",
    "tree_results = tree_transformed.select(['probability', 'label'])\n",
    "\n",
    "tree_results_collect = tree_results.collect()\n",
    "tree_results_list = [(float(i[0][0]), 1.0-float(i[1])) for i in tree_results_collect]\n",
    "\n",
    "tree_scoreAndLabels = sc.parallelize(tree_results_list)\n",
    "tree_metrics = metric(tree_scoreAndLabels)\n",
    "print(\"The ROC score is: \", tree_metrics.areaUnderROC)\n",
    "# Area under precision-recall curve\n",
    "print(\"Area under PR = %s\" % tree_metrics.areaUnderPR)\n",
    "\n",
    "\n",
    "y_true = tree_transformed.select(['label']).collect()\n",
    "y_pred = tree_transformed.select(['prediction']).collect()\n",
    "print(classification_report(y_true, y_pred))"
   ]
  },
  {
   "cell_type": "code",
   "execution_count": 42,
   "metadata": {},
   "outputs": [
    {
     "data": {
      "text/plain": [
       "SparseVector(3580, {5: 0.0119, 18: 0.0012, 28: 0.0016, 32: 0.0093, 34: 0.0002, 37: 0.0046, 39: 0.0006, 50: 0.0004, 61: 0.0108, 65: 0.0021, 71: 0.0017, 83: 0.0044, 106: 0.0034, 111: 0.002, 116: 0.0029, 119: 0.0012, 135: 0.0032, 157: 0.0009, 170: 0.0105, 171: 0.0051, 172: 0.0017, 173: 0.0019, 177: 0.0015, 178: 0.0041, 179: 0.0012, 182: 0.0027, 183: 0.0039, 188: 0.0014, 191: 0.0002, 196: 0.0021, 200: 0.0036, 205: 0.002, 215: 0.0021, 218: 0.0039, 219: 0.0031, 228: 0.0014, 231: 0.0027, 234: 0.0054, 241: 0.0024, 249: 0.0015, 250: 0.0007, 254: 0.002, 286: 0.0025, 288: 0.0012, 294: 0.0003, 296: 0.0019, 304: 0.0014, 307: 0.0016, 308: 0.004, 325: 0.0031, 333: 0.0036, 338: 0.0003, 343: 0.0014, 344: 0.0014, 355: 0.0019, 375: 0.0008, 416: 0.0042, 428: 0.0019, 436: 0.0002, 439: 0.0021, 441: 0.0015, 457: 0.0026, 461: 0.0021, 476: 0.0014, 478: 0.0016, 523: 0.0021, 546: 0.0026, 581: 0.0011, 588: 0.0029, 604: 0.0014, 615: 0.0007, 619: 0.0017, 627: 0.0014, 633: 0.0033, 657: 0.0053, 658: 0.0031, 662: 0.002, 681: 0.0021, 693: 0.002, 694: 0.001, 701: 0.0015, 720: 0.0035, 725: 0.0014, 731: 0.0017, 761: 0.0006, 763: 0.006, 767: 0.0017, 769: 0.0034, 770: 0.0038, 772: 0.0029, 777: 0.0044, 783: 0.0014, 784: 0.002, 790: 0.0013, 806: 0.003, 848: 0.0008, 884: 0.0004, 887: 0.0027, 895: 0.0014, 898: 0.0031, 904: 0.0019, 907: 0.0036, 914: 0.0012, 924: 0.005, 926: 0.0005, 940: 0.001, 954: 0.0017, 955: 0.0019, 956: 0.0012, 978: 0.0007, 986: 0.0017, 1003: 0.0025, 1025: 0.0004, 1033: 0.0024, 1036: 0.0028, 1038: 0.0017, 1051: 0.0009, 1057: 0.0024, 1065: 0.0017, 1067: 0.0035, 1076: 0.0011, 1080: 0.0009, 1081: 0.0022, 1089: 0.0014, 1091: 0.0036, 1108: 0.0011, 1111: 0.0005, 1145: 0.0017, 1149: 0.0012, 1150: 0.0018, 1169: 0.0035, 1176: 0.0017, 1185: 0.0025, 1188: 0.0023, 1194: 0.0027, 1199: 0.0033, 1201: 0.0029, 1204: 0.0082, 1225: 0.0023, 1234: 0.0017, 1236: 0.0012, 1240: 0.0031, 1250: 0.0, 1264: 0.0009, 1267: 0.0012, 1286: 0.0019, 1298: 0.0035, 1302: 0.0014, 1311: 0.0012, 1313: 0.0035, 1331: 0.0017, 1341: 0.0017, 1344: 0.001, 1354: 0.0032, 1358: 0.0016, 1384: 0.0081, 1405: 0.0008, 1408: 0.0037, 1413: 0.0006, 1428: 0.0022, 1436: 0.0004, 1457: 0.0014, 1458: 0.0014, 1474: 0.0001, 1478: 0.0042, 1498: 0.0045, 1521: 0.0021, 1533: 0.0, 1546: 0.003, 1561: 0.0015, 1563: 0.0017, 1566: 0.0015, 1572: 0.0025, 1598: 0.0038, 1601: 0.0022, 1607: 0.0038, 1614: 0.0067, 1616: 0.0031, 1617: 0.0013, 1627: 0.0035, 1646: 0.0011, 1657: 0.0035, 1689: 0.0011, 1710: 0.0014, 1712: 0.0015, 1715: 0.0025, 1759: 0.0042, 1799: 0.0025, 1803: 0.0012, 1809: 0.0021, 1826: 0.0015, 1830: 0.0015, 1840: 0.0019, 1841: 0.001, 1847: 0.0027, 1849: 0.0033, 1851: 0.0016, 1865: 0.0013, 1867: 0.0046, 1882: 0.0013, 1883: 0.0, 1901: 0.0028, 1913: 0.001, 1914: 0.0037, 1931: 0.0014, 1933: 0.0043, 1951: 0.0012, 1962: 0.0011, 1963: 0.002, 1964: 0.0049, 1975: 0.0024, 1981: 0.0036, 1999: 0.0035, 2007: 0.0045, 2012: 0.0014, 2019: 0.0019, 2026: 0.0034, 2041: 0.0025, 2047: 0.0014, 2054: 0.0019, 2058: 0.0028, 2060: 0.0025, 2066: 0.0035, 2072: 0.0013, 2078: 0.0021, 2113: 0.002, 2129: 0.0011, 2140: 0.0044, 2141: 0.0025, 2162: 0.0002, 2164: 0.0038, 2167: 0.0019, 2170: 0.0038, 2173: 0.002, 2174: 0.0019, 2178: 0.0017, 2185: 0.0061, 2190: 0.0029, 2199: 0.0025, 2207: 0.0014, 2225: 0.0031, 2231: 0.0023, 2235: 0.0, 2248: 0.0002, 2252: 0.0019, 2261: 0.0015, 2293: 0.0038, 2321: 0.0013, 2330: 0.0006, 2343: 0.0013, 2359: 0.002, 2391: 0.0015, 2395: 0.0017, 2398: 0.0027, 2401: 0.0008, 2406: 0.001, 2412: 0.0025, 2415: 0.0021, 2416: 0.0021, 2445: 0.0034, 2446: 0.0006, 2448: 0.005, 2451: 0.0012, 2453: 0.0024, 2462: 0.0015, 2467: 0.001, 2484: 0.001, 2515: 0.0006, 2527: 0.0019, 2529: 0.0031, 2542: 0.0017, 2543: 0.0003, 2553: 0.0024, 2563: 0.0011, 2571: 0.0015, 2581: 0.0006, 2589: 0.0044, 2593: 0.0019, 2605: 0.0023, 2625: 0.0014, 2634: 0.0013, 2644: 0.0038, 2658: 0.0003, 2667: 0.0017, 2676: 0.0024, 2705: 0.0008, 2706: 0.0017, 2712: 0.001, 2730: 0.0025, 2732: 0.0021, 2745: 0.0017, 2749: 0.0029, 2766: 0.0002, 2803: 0.0011, 2809: 0.0013, 2811: 0.004, 2820: 0.0008, 2826: 0.0028, 2836: 0.0015, 2923: 0.0028, 2981: 0.0025, 2985: 0.0049, 2999: 0.0009, 3010: 0.004, 3011: 0.0025, 3040: 0.0051, 3046: 0.0055, 3050: 0.005, 3078: 0.0014, 3120: 0.0014, 3125: 0.004, 3129: 0.0032, 3131: 0.0015, 3145: 0.0019, 3151: 0.0006, 3169: 0.0076, 3176: 0.0025, 3181: 0.0008, 3194: 0.0033, 3195: 0.0058, 3196: 0.0022, 3203: 0.0001, 3216: 0.0003, 3217: 0.002, 3258: 0.0035, 3289: 0.0011, 3292: 0.0013, 3300: 0.0014, 3311: 0.0016, 3314: 0.0039, 3316: 0.0022, 3326: 0.002, 3332: 0.0018, 3361: 0.0011, 3362: 0.0009, 3381: 0.0029, 3384: 0.002, 3393: 0.0016, 3394: 0.0018, 3395: 0.0023, 3397: 0.0003, 3400: 0.0004, 3402: 0.0015, 3403: 0.0005, 3404: 0.0028, 3406: 0.0085, 3412: 0.0019, 3414: 0.006, 3419: 0.0014, 3420: 0.0018, 3421: 0.0077, 3423: 0.0035, 3425: 0.0017, 3431: 0.0, 3434: 0.0029, 3440: 0.0027, 3441: 0.0003, 3442: 0.0009, 3443: 0.0003, 3449: 0.0, 3451: 0.0015, 3452: 0.0032, 3454: 0.0128, 3462: 0.0022, 3464: 0.0, 3471: 0.0006, 3483: 0.0005, 3488: 0.0167, 3493: 0.0033, 3494: 0.0033, 3497: 0.002, 3503: 0.0066, 3504: 0.0014, 3505: 0.001, 3508: 0.0003, 3513: 0.0031, 3515: 0.0004, 3516: 0.0011, 3517: 0.0009, 3519: 0.0001, 3520: 0.0017, 3532: 0.0014, 3533: 0.0027, 3539: 0.0002, 3545: 0.0005, 3546: 0.0012, 3547: 0.0019, 3548: 0.0013, 3558: 0.0083, 3561: 0.0026, 3566: 0.0103, 3567: 0.0046, 3568: 0.0019, 3569: 0.0026, 3570: 0.0007, 3573: 0.0014, 3574: 0.0043, 3575: 0.0052, 3578: 0.0198, 3579: 0.0426})"
      ]
     },
     "execution_count": 42,
     "metadata": {},
     "output_type": "execute_result"
    }
   ],
   "source": [
    "\n",
    "#Random Forest Classifer\n",
    "from pyspark.ml.classification import RandomForestClassifier as RF\n",
    "rf = RF(labelCol = \"label\", featuresCol = \"features\", numTrees = 200, maxDepth = 3)\n",
    "fit = rf.fit(trainingData)\n",
    "transformed = fit.transform(testData)\n",
    "\n",
    "fit.featureImportances"
   ]
  },
  {
   "cell_type": "code",
   "execution_count": 43,
   "metadata": {},
   "outputs": [
    {
     "name": "stdout",
     "output_type": "stream",
     "text": [
      "The ROC score is:  0.6389836935912022\n",
      "Area under PR = 0.8673876370580045\n",
      "              precision    recall  f1-score   support\n",
      "\n",
      "         0.0       0.79      1.00      0.88       879\n",
      "         1.0       0.00      0.00      0.00       237\n",
      "\n",
      "    accuracy                           0.79      1116\n",
      "   macro avg       0.39      0.50      0.44      1116\n",
      "weighted avg       0.62      0.79      0.69      1116\n",
      "\n"
     ]
    },
    {
     "name": "stderr",
     "output_type": "stream",
     "text": [
      "/home/ubuntu/.local/lib/python3.5/site-packages/sklearn/metrics/_classification.py:1272: UndefinedMetricWarning: Precision and F-score are ill-defined and being set to 0.0 in labels with no predicted samples. Use `zero_division` parameter to control this behavior.\n",
      "  _warn_prf(average, modifier, msg_start, len(result))\n"
     ]
    }
   ],
   "source": [
    "#6.3.2 Random Forest\n",
    "from pyspark.mllib.evaluation import BinaryClassificationMetrics as metric\n",
    "from pyspark import SparkContext, SparkConf\n",
    "conf = SparkConf().setAppName('dsom167_BDAS').setMaster(\"local[*]\")\n",
    "sc = SparkContext.getOrCreate(conf)\n",
    "\n",
    "results = transformed.select(['probability', 'label'])\n",
    "\n",
    "results_collect = results.collect()\n",
    "results_list = [(float(i[0][0]), 1.0-float(i[1])) for i in results_collect]\n",
    "\n",
    "scoreAndLabels = sc.parallelize(results_list)\n",
    "metrics = metric(scoreAndLabels)\n",
    "print(\"The ROC score is: \", metrics.areaUnderROC)\n",
    "# Area under precision-recall curve\n",
    "print(\"Area under PR = %s\" % metrics.areaUnderPR)\n",
    "\n",
    "from sklearn.metrics import classification_report, confusion_matrix\n",
    "y_true = transformed.select(['label']).collect()\n",
    "y_pred = transformed.select(['prediction']).collect()\n",
    "print(classification_report(y_true, y_pred))"
   ]
  },
  {
   "cell_type": "code",
   "execution_count": 44,
   "metadata": {},
   "outputs": [
    {
     "name": "stdout",
     "output_type": "stream",
     "text": [
      "Decision Tree Classifier\n",
      "0.4033616067356941\n",
      "Random Forest Classifer\n",
      "0.620051554557106\n",
      "Gradient-Boosted Trees\n",
      "0.5128958396336458\n",
      "Naive Bayes\n",
      "0.5021097046413502\n"
     ]
    }
   ],
   "source": [
    "#7 Data Mining\n",
    "from pyspark.ml.classification import DecisionTreeClassifier,GBTClassifier,RandomForestClassifier, NaiveBayes\n",
    "from pyspark.ml import Pipeline\n",
    "\n",
    "dtc = DecisionTreeClassifier(labelCol='label',featuresCol='features')\n",
    "rfc = RandomForestClassifier(labelCol='label',featuresCol='features')\n",
    "gbt = GBTClassifier(labelCol='label',featuresCol='features')\n",
    "nb = NaiveBayes(labelCol='label',featuresCol='features')\n",
    "\n",
    "dtc_model = dtc.fit(trainingData)\n",
    "rfc_model = rfc.fit(trainingData)\n",
    "gbt_model = gbt.fit(trainingData)\n",
    "nb_model = nb.fit(trainingData)\n",
    "\n",
    "dtc_predictions = dtc_model.transform(testData)\n",
    "rfc_predictions = rfc_model.transform(testData)\n",
    "gbt_predictions = gbt_model.transform(testData)\n",
    "nb_predictions = nb_model.transform(testData)\n",
    "\n",
    "from pyspark.ml.evaluation import BinaryClassificationEvaluator\n",
    "\n",
    "my_binary_eval = BinaryClassificationEvaluator(labelCol = 'label')\n",
    "print(\"Decision Tree Classifier\")\n",
    "print(my_binary_eval.evaluate(dtc_predictions))\n",
    "\n",
    "print(\"Random Forest Classifer\")\n",
    "print(my_binary_eval.evaluate(rfc_predictions))\n",
    "\n",
    "my_binary_gbt_eval = BinaryClassificationEvaluator(labelCol='label', rawPredictionCol='prediction')\n",
    "print(\"Gradient-Boosted Trees\")\n",
    "print(my_binary_gbt_eval.evaluate(gbt_predictions))\n",
    "\n",
    "print(\"Naive Bayes\")\n",
    "print(my_binary_gbt_eval.evaluate(nb_predictions))"
   ]
  },
  {
   "cell_type": "code",
   "execution_count": 45,
   "metadata": {},
   "outputs": [
    {
     "name": "stdout",
     "output_type": "stream",
     "text": [
      "Here are the results!\n",
      "----------------------------------------\n",
      "A single decision tree has an accuracy of: 78.58%\n",
      "----------------------------------------\n",
      "A random forest ensemble has an accuracy of: 78.76%\n",
      "----------------------------------------\n",
      "An ensemble using gradient-boosted trees has an accuracy of: 78.85%\n",
      "----------------------------------------\n",
      "An ensemble using Naive Bayes has an accuracy of: 78.85%\n"
     ]
    }
   ],
   "source": [
    "\n",
    "# Data Mining\n",
    "#Evaluating Accuracy for all test model\n",
    "from pyspark.ml.evaluation import MulticlassClassificationEvaluator\n",
    "\n",
    "acc_evaluator = MulticlassClassificationEvaluator(labelCol=\"label\", predictionCol=\"prediction\", metricName=\"accuracy\")\n",
    "\n",
    "dtc_acc = acc_evaluator.evaluate(dtc_predictions)\n",
    "rfc_acc = acc_evaluator.evaluate(rfc_predictions)\n",
    "gbt_acc = acc_evaluator.evaluate(gbt_predictions)\n",
    "nb_acc = acc_evaluator.evaluate(nb_predictions)\n",
    "\n",
    "print(\"Here are the results!\")\n",
    "print('-'*40)\n",
    "print('A single decision tree has an accuracy of: {0:2.2f}%'.format(dtc_acc*100))\n",
    "print('-'*40)\n",
    "print('A random forest ensemble has an accuracy of: {0:2.2f}%'.format(rfc_acc*100))\n",
    "print('-'*40)\n",
    "print('An ensemble using gradient-boosted trees has an accuracy of: {0:2.2f}%'.format(gbt_acc*100))\n",
    "print('-'*40)\n",
    "print('An ensemble using Naive Bayes has an accuracy of: {0:2.2f}%'.format(nb_acc*100))"
   ]
  },
  {
   "cell_type": "code",
   "execution_count": 46,
   "metadata": {},
   "outputs": [
    {
     "data": {
      "text/plain": [
       "SparseVector(3580, {5: 0.105, 32: 0.0702, 3434: 0.0617, 3488: 0.1048, 3566: 0.0878, 3578: 0.5705})"
      ]
     },
     "execution_count": 46,
     "metadata": {},
     "output_type": "execute_result"
    }
   ],
   "source": [
    "#Decision Tree Features Important\n",
    "from pyspark.ml.regression import DecisionTreeRegressor as DTR\n",
    "dtr_tree = DTR(labelCol = \"label\", featuresCol = \"features\", maxDepth = 3)\n",
    "dtr_tree_fit = dtr_tree.fit(trainingData)\n",
    "dtr_tree_transformed = dtr_tree_fit.transform(testData)\n",
    "\n",
    "dtr_tree_fit.featureImportances"
   ]
  },
  {
   "cell_type": "code",
   "execution_count": 47,
   "metadata": {},
   "outputs": [
    {
     "name": "stdout",
     "output_type": "stream",
     "text": [
      "Mean Absolute Error is:  0.78584229390681\n",
      "Mean Squared Error:  0.78584229390681\n",
      "Root Mean Squared Error is:  0.8864774638459852\n",
      "R2 is:  -3.6981466280727524\n",
      "Explained Variance is:  0.6193370139129873\n"
     ]
    }
   ],
   "source": [
    "from pyspark.mllib.evaluation import RegressionMetrics as metric\n",
    "from pyspark import SparkContext, SparkConf\n",
    "conf = SparkConf().setAppName('dsom167_BDAS').setMaster(\"local[*]\")\n",
    "sc = SparkContext.getOrCreate(conf)\n",
    "\n",
    "dtr_results = dtr_tree_transformed.select(['features', 'label'])\n",
    "\n",
    "dtr_results_collect = dtr_results.collect()\n",
    "dtr_results_list = [(float(i[0][0]), 1.0-float(i[1])) for i in dtr_results_collect]\n",
    "\n",
    "dtr_scoreAndLabels = sc.parallelize(dtr_results_list)\n",
    "dtr_metrics = metric(dtr_scoreAndLabels)\n",
    "print(\"Mean Absolute Error is: \", dtr_metrics.meanAbsoluteError)\n",
    "print(\"Mean Squared Error: \", dtr_metrics.meanSquaredError)\n",
    "print(\"Root Mean Squared Error is: \", dtr_metrics.rootMeanSquaredError)\n",
    "print(\"R2 is: \", dtr_metrics.r2)\n",
    "print(\"Explained Variance is: \", dtr_metrics.explainedVariance)"
   ]
  },
  {
   "cell_type": "code",
   "execution_count": 48,
   "metadata": {},
   "outputs": [
    {
     "data": {
      "text/plain": [
       "SparseVector(3580, {5: 0.0354, 61: 0.0229, 83: 0.0037, 103: 0.0043, 116: 0.004, 170: 0.0193, 183: 0.0073, 218: 0.0111, 219: 0.006, 229: 0.0023, 308: 0.0095, 471: 0.0019, 604: 0.0053, 662: 0.0075, 697: 0.0095, 728: 0.0053, 1240: 0.0087, 1341: 0.0037, 1384: 0.0024, 1413: 0.004, 1561: 0.0083, 1595: 0.0008, 1715: 0.0037, 1805: 0.0048, 1825: 0.0069, 1957: 0.013, 2012: 0.0052, 2058: 0.0052, 2102: 0.0056, 2415: 0.0034, 2485: 0.0052, 2519: 0.0076, 2667: 0.0054, 2732: 0.0064, 2942: 0.0042, 3046: 0.0049, 3145: 0.0114, 3276: 0.0059, 3363: 0.0098, 3388: 0.0074, 3392: 0.0074, 3393: 0.007, 3394: 0.0258, 3395: 0.006, 3404: 0.0111, 3406: 0.015, 3417: 0.0024, 3418: 0.0035, 3423: 0.0081, 3435: 0.0043, 3436: 0.0117, 3450: 0.0022, 3460: 0.0025, 3488: 0.0525, 3499: 0.027, 3500: 0.0067, 3501: 0.0016, 3522: 0.0061, 3527: 0.0031, 3535: 0.0023, 3558: 0.0113, 3566: 0.0148, 3567: 0.0213, 3568: 0.0319, 3569: 0.0066, 3571: 0.0051, 3578: 0.2152, 3579: 0.1886})"
      ]
     },
     "execution_count": 48,
     "metadata": {},
     "output_type": "execute_result"
    }
   ],
   "source": [
    "#Random Forest Feature Importances\n",
    "from pyspark.ml.regression import RandomForestRegressor as RFR\n",
    "rfr_tree = RFR(labelCol = \"label\", featuresCol = \"features\", maxDepth = 3)\n",
    "rfr_tree_fit = rfr_tree.fit(trainingData)\n",
    "rfr_tree_transformed = rfr_tree_fit.transform(testData)\n",
    "\n",
    "rfr_tree_fit.featureImportances"
   ]
  },
  {
   "cell_type": "code",
   "execution_count": 49,
   "metadata": {},
   "outputs": [
    {
     "name": "stdout",
     "output_type": "stream",
     "text": [
      "Mean Absolute Error is:  0.78584229390681\n",
      "Mean Squared Error:  0.78584229390681\n",
      "Root Mean Squared Error is:  0.8864774638459852\n",
      "R2 is:  -3.6981466280727524\n",
      "Explained Variance is:  0.6193370139129873\n"
     ]
    }
   ],
   "source": [
    "#Conduct Data Mining\n",
    "from pyspark.mllib.evaluation import RegressionMetrics as metric\n",
    "from pyspark import SparkContext, SparkConf\n",
    "conf = SparkConf().setAppName('dsom167_BDAS').setMaster(\"local[*]\")\n",
    "sc = SparkContext.getOrCreate(conf)\n",
    "\n",
    "rfr_results = rfr_tree_transformed.select(['features', 'label'])\n",
    "\n",
    "rfr_results_collect = rfr_results.collect()\n",
    "rfr_results_list = [(float(i[0][0]), 1.0-float(i[1])) for i in rfr_results_collect]\n",
    "\n",
    "rfr_scoreAndLabels = sc.parallelize(rfr_results_list)\n",
    "rfr_metrics = metric(rfr_scoreAndLabels)\n",
    "print(\"Mean Absolute Error is: \", rfr_metrics.meanAbsoluteError)\n",
    "print(\"Mean Squared Error: \", rfr_metrics.meanSquaredError)\n",
    "print(\"Root Mean Squared Error is: \", rfr_metrics.rootMeanSquaredError)\n",
    "print(\"R2 is: \", rfr_metrics.r2)\n",
    "print(\"Explained Variance is: \", rfr_metrics.explainedVariance)"
   ]
  },
  {
   "cell_type": "code",
   "execution_count": 50,
   "metadata": {},
   "outputs": [
    {
     "name": "stdout",
     "output_type": "stream",
     "text": [
      "ChiSqSelector output with top 10 features selected\n",
      "+---------------+------+---+-----------------+-----------+------------+--------+----------+-------+------------+-------+-------+-------------+-------------------+----------+-------------+-------+---------------+-----------------+-----------------+---------------+---------------+----------------+----------------+------------+-------------+--------------+--------------+-----------+-------------+----------------+----------------+--------------------+-----+--------------------+\n",
      "|      PatientId|Gender|Age|    Neighbourhood|Scholarship|Hipertension|Diabetes|Alcoholism|Handcap|SMS_received|No-show|Illness|PatientId_tmp|      PatientId_Vec|Gender_tmp|   Gender_Vec|Age_tmp|        Age_Vec|Neighbourhood_tmp|Neighbourhood_Vec|Scholarship_tmp|Scholarship_Vec|Hipertension_tmp|Hipertension_Vec|Diabetes_tmp| Diabetes_Vec|Alcoholism_tmp|Alcoholism_Vec|Handcap_tmp|  Handcap_Vec|SMS_received_tmp|SMS_received_Vec|            features|label|    selectedFeatures|\n",
      "+---------------+------+---+-----------------+-----------+------------+--------+----------+-------+------------+-------+-------+-------------+-------------------+----------+-------------+-------+---------------+-----------------+-----------------+---------------+---------------+----------------+----------------+------------+-------------+--------------+--------------+-----------+-------------+----------------+----------------+--------------------+-----+--------------------+\n",
      "| 29872500000000|     F| 62|  JARDIM DA PENHA|          0|           1|       0|         0|      0|           0|     No|  false|        332.0| (3392,[332],[1.0])|       0.0|(2,[0],[1.0])|   17.0|(94,[17],[1.0])|              2.0|   (78,[2],[1.0])|            0.0|  (2,[0],[1.0])|             1.0|   (2,[1],[1.0])|         0.0|(2,[0],[1.0])|           0.0| (2,[0],[1.0])|        0.0|(4,[0],[1.0])|             0.0|   (2,[0],[1.0])|(3580,[332,3392,3...|  0.0|      (10,[8],[1.0])|\n",
      "|558998000000000|     M| 56|  JARDIM DA PENHA|          0|           0|       0|         0|      0|           0|     No|  false|        187.0| (3392,[187],[1.0])|       1.0|(2,[1],[1.0])|   27.0|(94,[27],[1.0])|              2.0|   (78,[2],[1.0])|            0.0|  (2,[0],[1.0])|             0.0|   (2,[0],[1.0])|         0.0|(2,[0],[1.0])|           0.0| (2,[0],[1.0])|        0.0|(4,[0],[1.0])|             0.0|   (2,[0],[1.0])|(3580,[187,3393,3...|  0.0|      (10,[8],[1.0])|\n",
      "|  4262960000000|     F| 62|    MATA DA PRAIA|          0|           0|       0|         0|      0|           0|     No|  false|        323.0| (3392,[323],[1.0])|       0.0|(2,[0],[1.0])|   17.0|(94,[17],[1.0])|             53.0|  (78,[53],[1.0])|            0.0|  (2,[0],[1.0])|             0.0|   (2,[0],[1.0])|         0.0|(2,[0],[1.0])|           0.0| (2,[0],[1.0])|        0.0|(4,[0],[1.0])|             0.0|   (2,[0],[1.0])|(3580,[323,3392,3...|  0.0|      (10,[8],[1.0])|\n",
      "|   867951000000|     F|  8|PONTAL DE CAMBURI|          0|           0|       0|         0|      0|           0|     No|  false|       2815.0|(3392,[2815],[1.0])|       0.0|(2,[0],[1.0])|   14.0|(94,[14],[1.0])|             77.0|  (78,[77],[1.0])|            0.0|  (2,[0],[1.0])|             0.0|   (2,[0],[1.0])|         0.0|(2,[0],[1.0])|           0.0| (2,[0],[1.0])|        0.0|(4,[0],[1.0])|             0.0|   (2,[0],[1.0])|(3580,[2815,3392,...|  0.0|      (10,[8],[1.0])|\n",
      "|  8841190000000|     F| 56|  JARDIM DA PENHA|          0|           1|       1|         0|      0|           0|     No|   true|       1243.0|(3392,[1243],[1.0])|       0.0|(2,[0],[1.0])|   27.0|(94,[27],[1.0])|              2.0|   (78,[2],[1.0])|            0.0|  (2,[0],[1.0])|             1.0|   (2,[1],[1.0])|         1.0|(2,[1],[1.0])|           0.0| (2,[0],[1.0])|        0.0|(4,[0],[1.0])|             0.0|   (2,[0],[1.0])|(3580,[1243,3392,...|  0.0|      (10,[8],[1.0])|\n",
      "| 95985100000000|     F| 76|        REPÚBLICA|          0|           1|       0|         0|      0|           0|     No|  false|       1720.0|(3392,[1720],[1.0])|       0.0|(2,[0],[1.0])|   79.0|(94,[79],[1.0])|             40.0|  (78,[40],[1.0])|            0.0|  (2,[0],[1.0])|             1.0|   (2,[1],[1.0])|         0.0|(2,[0],[1.0])|           0.0| (2,[0],[1.0])|        0.0|(4,[0],[1.0])|             0.0|   (2,[0],[1.0])|(3580,[1720,3392,...|  0.0|      (10,[8],[1.0])|\n",
      "|733688000000000|     F| 23|       GOIABEIRAS|          0|           0|       0|         0|      0|           0|    Yes|  false|       2132.0|(3392,[2132],[1.0])|       0.0|(2,[0],[1.0])|   42.0|(94,[42],[1.0])|             47.0|  (78,[47],[1.0])|            0.0|  (2,[0],[1.0])|             0.0|   (2,[0],[1.0])|         0.0|(2,[0],[1.0])|           0.0| (2,[0],[1.0])|        0.0|(4,[0],[1.0])|             0.0|   (2,[0],[1.0])|(3580,[2132,3392,...|  1.0|(10,[3,8],[1.0,1.0])|\n",
      "|  3449830000000|     F| 39|       GOIABEIRAS|          0|           0|       0|         0|      0|           0|    Yes|  false|       1104.0|(3392,[1104],[1.0])|       0.0|(2,[0],[1.0])|    4.0| (94,[4],[1.0])|             47.0|  (78,[47],[1.0])|            0.0|  (2,[0],[1.0])|             0.0|   (2,[0],[1.0])|         0.0|(2,[0],[1.0])|           0.0| (2,[0],[1.0])|        0.0|(4,[0],[1.0])|             0.0|   (2,[0],[1.0])|(3580,[1104,3392,...|  1.0|      (10,[8],[1.0])|\n",
      "| 56394700000000|     F| 21|       ANDORINHAS|          0|           0|       0|         0|      0|           0|     No|  false|       2813.0|(3392,[2813],[1.0])|       0.0|(2,[0],[1.0])|   20.0|(94,[20],[1.0])|             12.0|  (78,[12],[1.0])|            0.0|  (2,[0],[1.0])|             0.0|   (2,[0],[1.0])|         0.0|(2,[0],[1.0])|           0.0| (2,[0],[1.0])|        0.0|(4,[0],[1.0])|             0.0|   (2,[0],[1.0])|(3580,[2813,3392,...|  0.0|      (10,[8],[1.0])|\n",
      "| 78124600000000|     F| 19|        CONQUISTA|          0|           0|       0|         0|      0|           0|     No|  false|        700.0| (3392,[700],[1.0])|       0.0|(2,[0],[1.0])|    3.0| (94,[3],[1.0])|             36.0|  (78,[36],[1.0])|            0.0|  (2,[0],[1.0])|             0.0|   (2,[0],[1.0])|         0.0|(2,[0],[1.0])|           0.0| (2,[0],[1.0])|        0.0|(4,[0],[1.0])|             0.0|   (2,[0],[1.0])|(3580,[700,3392,3...|  0.0|      (10,[8],[1.0])|\n",
      "+---------------+------+---+-----------------+-----------+------------+--------+----------+-------+------------+-------+-------+-------------+-------------------+----------+-------------+-------+---------------+-----------------+-----------------+---------------+---------------+----------------+----------------+------------+-------------+--------------+--------------+-----------+-------------+----------------+----------------+--------------------+-----+--------------------+\n",
      "only showing top 10 rows\n",
      "\n"
     ]
    }
   ],
   "source": [
    "\n",
    "from pyspark.ml.feature import ChiSqSelector as CSS\n",
    "from pyspark import SparkContext, SparkConf\n",
    "conf = SparkConf().setAppName('dsom167_BDAS').setMaster(\"local[*]\")\n",
    "sc = SparkContext.getOrCreate(conf)\n",
    "\n",
    "selector = CSS(numTopFeatures=10, featuresCol=\"features\",\n",
    "                         outputCol=\"selectedFeatures\", labelCol=\"label\")\n",
    "selector_result = selector.fit(allData)\n",
    "selector_transformed = selector_result.transform(allData)\n",
    "\n",
    "print(\"ChiSqSelector output with top %d features selected\" % selector.getNumTopFeatures())\n",
    "selector_transformed.show(10)"
   ]
  },
  {
   "cell_type": "code",
   "execution_count": 59,
   "metadata": {},
   "outputs": [
    {
     "data": {
      "image/png": "[encoded data removed]",
      "text/plain": [
       "<Figure size 1656x432 with 1 Axes>"
      ]
     },
     "metadata": {},
     "output_type": "display_data"
    }
   ],
   "source": [
    "#Decision Tree Features Important\n",
    "from pyspark.ml.regression import DecisionTreeRegressor as DTR\n",
    "import matplotlib.pyplot as plt\n",
    "dtr_tree = DTR(labelCol = \"label\", featuresCol = \"features\", maxDepth = 3)\n",
    "dtr_tree_fit = dtr_tree.fit(trainingData)\n",
    "dtr_tree_transformed = dtr_tree_fit.transform(testData)\n",
    "\n",
    "dtr_tree_fit.featureImportances\n",
    "\n",
    "plt.figure(figsize=(23,6))\n",
    "plt.bar(\"label\", dtr_tree_fit.featureImportances)\n",
    "plt.xticks(rotation=90)\n",
    "plt.title('Decision Tree Feature Importance')\n",
    "plt.show(5)\n",
    "\n"
   ]
  },
  {
   "cell_type": "code",
   "execution_count": 58,
   "metadata": {},
   "outputs": [
    {
     "data": {
      "image/png": "[encoded data removed]",
      "text/plain": [
       "<Figure size 1656x432 with 1 Axes>"
      ]
     },
     "metadata": {},
     "output_type": "display_data"
    }
   ],
   "source": [
    "#Random Forest Feature Importances\n",
    "from pyspark.ml.regression import RandomForestRegressor as RFR\n",
    "import matplotlib.pyplot as plt\n",
    "rfr_tree = RFR(labelCol = \"label\", featuresCol = \"features\", maxDepth = 3)\n",
    "rfr_tree_fit = rfr_tree.fit(trainingData)\n",
    "rfr_tree_transformed = rfr_tree_fit.transform(testData)\n",
    "\n",
    "rfr_tree_fit.featureImportances\n",
    "\n",
    "plt.figure(figsize=(23,6))\n",
    "plt.bar(\"label\", rfr_tree_fit.featureImportances)\n",
    "plt.xticks(rotation=90)\n",
    "plt.title('Random Forest Feature Importance')\n",
    "plt.show(5)"
   ]
  },
  {
   "cell_type": "code",
   "execution_count": 57,
   "metadata": {},
   "outputs": [
    {
     "name": "stdout",
     "output_type": "stream",
     "text": [
      "DecisionTreeClassificationModel (uid=DecisionTreeClassifier_4f8c8024e664fbe3036f) of depth 5 with 35 nodes\n",
      "  If (feature 3578 in {1.0})\n",
      "   If (feature 5 in {1.0})\n",
      "    Predict: 1.0\n",
      "   Else (feature 5 not in {1.0})\n",
      "    If (feature 32 in {1.0})\n",
      "     Predict: 1.0\n",
      "    Else (feature 32 not in {1.0})\n",
      "     If (feature 83 in {1.0})\n",
      "      Predict: 1.0\n",
      "     Else (feature 83 not in {1.0})\n",
      "      If (feature 106 in {1.0})\n",
      "       Predict: 1.0\n",
      "      Else (feature 106 not in {1.0})\n",
      "       Predict: 0.0\n",
      "  Else (feature 3578 not in {1.0})\n",
      "   If (feature 3488 in {1.0})\n",
      "    If (feature 3434 in {1.0})\n",
      "     If (feature 1256 in {1.0})\n",
      "      Predict: 0.0\n",
      "     Else (feature 1256 not in {1.0})\n",
      "      Predict: 1.0\n",
      "    Else (feature 3434 not in {1.0})\n",
      "     If (feature 3412 in {1.0})\n",
      "      Predict: 1.0\n",
      "     Else (feature 3412 not in {1.0})\n",
      "      If (feature 3392 in {0.0})\n",
      "       Predict: 0.0\n",
      "      Else (feature 3392 not in {0.0})\n",
      "       Predict: 0.0\n",
      "   Else (feature 3488 not in {1.0})\n",
      "    If (feature 3566 in {0.0})\n",
      "     If (feature 3418 in {1.0})\n",
      "      If (feature 1193 in {1.0})\n",
      "       Predict: 0.0\n",
      "      Else (feature 1193 not in {1.0})\n",
      "       Predict: 1.0\n",
      "     Else (feature 3418 not in {1.0})\n",
      "      If (feature 3415 in {1.0})\n",
      "       Predict: 1.0\n",
      "      Else (feature 3415 not in {1.0})\n",
      "       Predict: 0.0\n",
      "    Else (feature 3566 not in {0.0})\n",
      "     If (feature 3494 in {1.0})\n",
      "      If (feature 3392 in {0.0})\n",
      "       Predict: 0.0\n",
      "      Else (feature 3392 not in {0.0})\n",
      "       Predict: 1.0\n",
      "     Else (feature 3494 not in {1.0})\n",
      "      If (feature 3568 in {0.0})\n",
      "       Predict: 0.0\n",
      "      Else (feature 3568 not in {0.0})\n",
      "       Predict: 0.0\n",
      "\n",
      " feature 0 : PatientId\n",
      " feature 1 : Gender\n",
      " feature 2 : Age\n",
      " feature 3 : Neighbourhood\n",
      " feature 4 : Scholarship\n",
      " feature 5 : Hipertension\n",
      " feature 6 : Diabetes\n",
      " feature 7 : Alcoholism\n",
      " feature 8 : Handcap\n",
      " feature 9 : SMS_received\n",
      " feature 10 : No-show\n"
     ]
    }
   ],
   "source": [
    "feature_name = ['PatientId',\n",
    "             'Gender',\n",
    "             'Age',\n",
    "             'Neighbourhood',\n",
    "             'Scholarship',\n",
    "             'Hipertension',\n",
    "             'Diabetes',\n",
    "             'Alcoholism',\n",
    "             'Handcap',\n",
    "             'SMS_received',\n",
    "              'No-show']\n",
    "\n",
    "print(dtc_model.toDebugString)\n",
    "\n",
    "index = 0 \n",
    "for feature in feature_name:\n",
    "    print(' feature ' + str(index) + \" : \" + feature_name[index])\n",
    "    index += 1"
   ]
  },
  {
   "cell_type": "code",
   "execution_count": null,
   "metadata": {},
   "outputs": [],
   "source": []
  }
 ],
 "metadata": {
  "kernelspec": {
   "display_name": "Python 3",
   "language": "python",
   "name": "python3"
  },
  "language_info": {
   "codemirror_mode": {
    "name": "ipython",
    "version": 3
   },
   "file_extension": ".py",
   "mimetype": "text/x-python",
   "name": "python",
   "nbconvert_exporter": "python",
   "pygments_lexer": "ipython3",
   "version": "3.5.2"
  }
 },
 "nbformat": 4,
 "nbformat_minor": 2
}